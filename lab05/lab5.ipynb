{
 "cells": [
  {
   "cell_type": "markdown",
   "source": [
    "### Sprawozdanie - Równania nieliniowe\n",
    "<div style=\"text-align: right\"> Wojciech Kosztyła </div>\n",
    "\n"
   ],
   "metadata": {
    "collapsed": false
   }
  },
  {
   "cell_type": "code",
   "source": [
    "from mpmath import *\n",
    "import numpy as np"
   ],
   "metadata": {
    "collapsed": false,
    "pycharm": {
     "name": "#%%\n"
    }
   },
   "execution_count": 1,
   "outputs": []
  },
  {
   "cell_type": "markdown",
   "metadata": {
    "pycharm": {
     "name": "#%% md\n"
    }
   },
   "source": [
    "### Funkcje do testów\n",
    "1. $f_1(x)=cos(x)cosh(x)-1, [\\frac{3}{2}\\pi,2\\pi]$\n",
    "2. $f_2(x)=\\frac{1}{x}-tg(x), (0,\\frac{\\pi}{2}]$\n",
    "3. $f_3(x)=2^{-x}+e^x+2cos(x)-6, [1,3]$"
   ]
  },
  {
   "cell_type": "code",
   "metadata": {
    "pycharm": {
     "name": "#%%\n"
    }
   },
   "source": [
    "def f_1(x):\n",
    "    return cos(x) * cosh(x) - 1\n",
    "\n",
    "def f_2(x):\n",
    "    return (1/x) - tan(x)\n",
    "\n",
    "def f_3(x):\n",
    "    return 2**(-x) + e**x + 2*cos(x) - 6"
   ],
   "execution_count": 2,
   "outputs": []
  },
  {
   "cell_type": "markdown",
   "metadata": {},
   "source": [
    "#### Zadanie 1 - Metoda bisekcji\n",
    "\n",
    "Napisz funkcję realizującą metodę bisekcji dla danej funkcji f w oparciu o arytmetykę o zmiennej precyzji (mpmath.mpf). Funkcja przyjmuje następujące argumenty:\n",
    "- Minimalną precyzję obliczeń (liczba cyfr znaczących) \n",
    "- Krańce przedziału\n",
    "- Błąd bezwzględny obliczeń\n",
    "\n",
    "Funkcja ma zwracać wyznaczone miejsce zerowe, wyliczoną wartość w miejscu zerowym oraz liczbę iteracji potrzebną do uzyskania określonej dokładności. Przetestuj działanie metody dla funkcji podanych na początku instrukcji. \n",
    "\n",
    "Jaka liczba iteracji jest potrzebna do uzyskania bezwzględnej dokładności rzędu: $10^{−7}, 10^{−15}, 10^{−33}$? \n",
    "\n",
    "Można pokazać, że uzyskanie bezwzględnej dokładności ε wymaga $n = \\lceil {\\frac{log \\frac{b-a}{ε}}{log 2} }\\rceil$ iteracji"
   ]
  },
  {
   "cell_type": "code",
   "execution_count": 3,
   "metadata": {},
   "outputs": [],
   "source": [
    "def bisekcja(funkcja, a, b, precyzja, epsilon):\n",
    "    mp.dps = precyzja\n",
    "    a = mpf(a)\n",
    "    b = mpf(b)\n",
    "    n = 1\n",
    "    while True:\n",
    "        c = (a + b) / 2\n",
    "        if abs(funkcja(c)) < epsilon or (b - a) < epsilon:\n",
    "            return c, funkcja(c), n\n",
    "        if funkcja(c) * funkcja(a) > 0:\n",
    "            a = c\n",
    "        else:\n",
    "            b = c\n",
    "        n += 1\n"
   ]
  },
  {
   "cell_type": "code",
   "execution_count": 4,
   "metadata": {
    "scrolled": false
   },
   "outputs": [
    {
     "name": "stdout",
     "output_type": "stream",
     "text": [
      "Metoda bisekcji\n",
      "\n",
      "Funkcja 1\n",
      "Miejsce zerowe: 4.730041 \tWartość miejsca zerowego: 2.518296e-6 \tIlość iteracji: 26\n",
      "Miejsce zerowe: 4.7300407448627 \tWartość miejsca zerowego: -1.53210777398272e-14 \tIlość iteracji: 52\n",
      "Miejsce zerowe: 4.73004074486270402602404810083389 \tWartość miejsca zerowego: 4.00593428432545057435643412057665e-32 \tIlość iteracji: 112\n",
      "\n",
      "Funkcja 2\n",
      "Miejsce zerowe: 0.8603336 \tWartość miejsca zerowego: 0.0 \tIlość iteracji: 24\n",
      "Miejsce zerowe: 0.86033358901938 \tWartość miejsca zerowego: -6.66133814775094e-16 \tIlość iteracji: 51\n",
      "Miejsce zerowe: 0.860333589019379762483893424137662 \tWartość miejsca zerowego: 9.62964972193617926527988971292464e-34 \tIlość iteracji: 110\n",
      "\n",
      "Funkcja 3\n",
      "Miejsce zerowe: 1.829384 \tWartość miejsca zerowego: 5.960464e-8 \tIlość iteracji: 23\n",
      "Miejsce zerowe: 1.82938360193385 \tWartość miejsca zerowego: 0.0 \tIlość iteracji: 52\n",
      "Miejsce zerowe: 1.82938360193384881713621294681415 \tWartość miejsca zerowego: 0.0 \tIlość iteracji: 111\n"
     ]
    }
   ],
   "source": [
    "print(\"Metoda bisekcji\")\n",
    "\n",
    "print(\"\\nFunkcja 1\")\n",
    "temp_a, temp_b, temp_c = bisekcja( f_1, 3 * pi / 2, 2 * pi, precyzja=7, epsilon=1e-7)\n",
    "print(\"Miejsce zerowe: {} \\tWartość miejsca zerowego: {} \\tIlość iteracji: {}\".format(temp_a, temp_b, temp_c))\n",
    "temp_a, temp_b, temp_c = bisekcja( f_1, 3 * pi / 2, 2 * pi, precyzja=15, epsilon=1e-15)\n",
    "print(\"Miejsce zerowe: {} \\tWartość miejsca zerowego: {} \\tIlość iteracji: {}\".format(temp_a, temp_b, temp_c))\n",
    "temp_a, temp_b, temp_c = bisekcja( f_1, 3 * pi / 2, 2 * pi, precyzja=33, epsilon=1e-33)\n",
    "print(\"Miejsce zerowe: {} \\tWartość miejsca zerowego: {} \\tIlość iteracji: {}\".format(temp_a, temp_b, temp_c))\n",
    "\n",
    "print(\"\\nFunkcja 2\")\n",
    "temp_a, temp_b, temp_c = bisekcja( f_2, 1e-5, pi / 2, precyzja=7, epsilon=1e-7)\n",
    "print(\"Miejsce zerowe: {} \\tWartość miejsca zerowego: {} \\tIlość iteracji: {}\".format(temp_a, temp_b, temp_c))\n",
    "temp_a, temp_b, temp_c = bisekcja( f_2, 1e-5, pi / 2, precyzja=15, epsilon=1e-15)\n",
    "print(\"Miejsce zerowe: {} \\tWartość miejsca zerowego: {} \\tIlość iteracji: {}\".format(temp_a, temp_b, temp_c))\n",
    "temp_a, temp_b, temp_c = bisekcja( f_2, 1e-5, pi / 2, precyzja=33, epsilon=1e-33)\n",
    "print(\"Miejsce zerowe: {} \\tWartość miejsca zerowego: {} \\tIlość iteracji: {}\".format(temp_a, temp_b, temp_c))\n",
    "\n",
    "print(\"\\nFunkcja 3\")\n",
    "temp_a, temp_b, temp_c = bisekcja( f_3, 1, 3, precyzja=7, epsilon=1e-7)\n",
    "print(\"Miejsce zerowe: {} \\tWartość miejsca zerowego: {} \\tIlość iteracji: {}\".format(temp_a, temp_b, temp_c))\n",
    "temp_a, temp_b, temp_c = bisekcja( f_3, 1, 3, precyzja=15, epsilon=1e-15)\n",
    "print(\"Miejsce zerowe: {} \\tWartość miejsca zerowego: {} \\tIlość iteracji: {}\".format(temp_a, temp_b, temp_c))\n",
    "temp_a, temp_b, temp_c = bisekcja( f_3, 1, 3, precyzja=33, epsilon=1e-33)\n",
    "print(\"Miejsce zerowe: {} \\tWartość miejsca zerowego: {} \\tIlość iteracji: {}\".format(temp_a, temp_b, temp_c))\n"
   ]
  },
  {
   "cell_type": "markdown",
   "metadata": {},
   "source": [
    "##### W jaki sposób możemy obliczyć k pierwszych dodatnich pierwiastków funkcji $f_1(x)$?\n",
    "\n",
    "Możemy podzielić zakres, w którym szukamy na mniejsze i na nich wykonać bisekcję."
   ]
  },
  {
   "cell_type": "code",
   "execution_count": 5,
   "metadata": {},
   "outputs": [
    {
     "name": "stdout",
     "output_type": "stream",
     "text": [
      "Pierwiastki funkcji: [mpf('-1.0000000037253'), mpf('0.0'), mpf('1.0000000037253')]\n"
     ]
    }
   ],
   "source": [
    "def sprobuj_znalezc_pierwiastki(funkcja, a, b, precyzja, epsilon, ilosc_podzialow):\n",
    "    pierwiastki = []\n",
    "    nowe_przedzialy = np.linspace(start=a, stop=b, num=ilosc_podzialow+1, endpoint=True)\n",
    "    for i in range(ilosc_podzialow):\n",
    "        nowe_a = nowe_przedzialy[i]\n",
    "        nowe_b = nowe_przedzialy[i+1]\n",
    "        temp_a, temp_b, temp_c = bisekcja( funkcja, nowe_a, nowe_b, precyzja=precyzja+1, epsilon=epsilon/10)\n",
    "        if abs(temp_b) < epsilon:\n",
    "            pierwiastki.append(temp_a)\n",
    "    return pierwiastki\n",
    "\n",
    "def f_4(x):\n",
    "    return (x-1)*x*(x+1)\n",
    "\n",
    "print(\"Pierwiastki funkcji: {}\".format(sprobuj_znalezc_pierwiastki(f_4, -5, 5, precyzja=10, epsilon=1e-7, ilosc_podzialow=5)))"
   ]
  },
  {
   "cell_type": "markdown",
   "metadata": {},
   "source": [
    "#### Zadanie 2 - Metoda Newtona\n",
    "\n",
    "Napisz funkcję realizującą metodę Newtona w oparciu o arytmetykę o zmiennej precyzji (mpmath.mpf). Funkcja ma wykorzystywać dwa kryteria stopu:\n",
    "- maksymalną liczbę iteracji\n",
    "- moduł różnicy kolejnych przybliżeń mniejszy od danej wartości ε\n",
    "\n",
    "Oprócz przybliżonej wartości pierwiastka funkcja ma zwrócić liczbę iteracji potrzebną do uzyskania określonej dokładności ε. Przetestuj działanie metody dla funkcji podanych na początku instrukcji (dodatkowo dostępne pochodne tych funkcji)."
   ]
  },
  {
   "cell_type": "code",
   "execution_count": 6,
   "metadata": {},
   "outputs": [],
   "source": [
    "def metoda_Newtona(funkcja, a, b, precyzja, epsilon, max_liczba_iteracji=1000):\n",
    "    mp.dps = precyzja\n",
    "    a = mpf(a)\n",
    "    b = mpf(b)\n",
    "    x_0 = mpf((a+b) / 2)\n",
    "    pochodna = lambda x: diff(funkcja, x)\n",
    "    for i in range(max_liczba_iteracji):\n",
    "        y = funkcja(x_0)\n",
    "        dy = pochodna(x_0)\n",
    "        x_next = x_0 - y / dy\n",
    "\n",
    "        if abs(x_next - x_0) < epsilon:\n",
    "            return x_next, i\n",
    "\n",
    "        x_0 = x_next\n",
    "    return None"
   ]
  },
  {
   "cell_type": "code",
   "execution_count": 7,
   "outputs": [
    {
     "name": "stdout",
     "output_type": "stream",
     "text": [
      "Metoda Newtona\n",
      "\n",
      "Funkcja 1\n",
      "Miejsce zerowe: 4.730041 \tIlość iteracji: 5\n",
      "Miejsce zerowe: 4.7300407448627 \tIlość iteracji: 6\n",
      "Miejsce zerowe: 4.73004074486270402602404810083388 \tIlość iteracji: 7\n",
      "\n",
      "Funkcja 2\n",
      "Miejsce zerowe: 0.8603336 \tIlość iteracji: 2\n",
      "Miejsce zerowe: 0.86033358901938 \tIlość iteracji: 4\n",
      "Miejsce zerowe: 0.860333589019379762483893424137662 \tIlość iteracji: 5\n",
      "\n",
      "Funkcja 3\n",
      "Miejsce zerowe: 1.829384 \tIlość iteracji: 4\n",
      "Miejsce zerowe: 1.82938360193385 \tIlość iteracji: 5\n",
      "Miejsce zerowe: 1.82938360193384881713621294681415 \tIlość iteracji: 6\n"
     ]
    }
   ],
   "source": [
    "print(\"Metoda Newtona\")\n",
    "\n",
    "print(\"\\nFunkcja 1\")\n",
    "temp_a, temp_b = metoda_Newtona( f_1, 3 * pi / 2, 2 * pi, precyzja=7, epsilon=1e-7)\n",
    "print(\"Miejsce zerowe: {} \\tIlość iteracji: {}\".format(temp_a, temp_b))\n",
    "temp_a, temp_b = metoda_Newtona( f_1, 3 * pi / 2, 2 * pi, precyzja=15, epsilon=1e-15)\n",
    "print(\"Miejsce zerowe: {} \\tIlość iteracji: {}\".format(temp_a, temp_b))\n",
    "temp_a, temp_b = metoda_Newtona( f_1, 3 * pi / 2, 2 * pi, precyzja=33, epsilon=1e-33)\n",
    "print(\"Miejsce zerowe: {} \\tIlość iteracji: {}\".format(temp_a, temp_b))\n",
    "\n",
    "print(\"\\nFunkcja 2\")\n",
    "temp_a, temp_b = metoda_Newtona( f_2, 1e-5, pi / 2, precyzja=7, epsilon=1e-7)\n",
    "print(\"Miejsce zerowe: {} \\tIlość iteracji: {}\".format(temp_a, temp_b))\n",
    "temp_a, temp_b = metoda_Newtona( f_2, 1e-5, pi / 2, precyzja=15, epsilon=1e-15)\n",
    "print(\"Miejsce zerowe: {} \\tIlość iteracji: {}\".format(temp_a, temp_b))\n",
    "temp_a, temp_b = metoda_Newtona( f_2, 1e-5, pi / 2, precyzja=33, epsilon=1e-33)\n",
    "print(\"Miejsce zerowe: {} \\tIlość iteracji: {}\".format(temp_a, temp_b))\n",
    "\n",
    "print(\"\\nFunkcja 3\")\n",
    "temp_a, temp_b = metoda_Newtona( f_3, 1, 3, precyzja=7, epsilon=1e-7)\n",
    "print(\"Miejsce zerowe: {} \\tIlość iteracji: {}\".format(temp_a, temp_b))\n",
    "temp_a, temp_b = metoda_Newtona( f_3, 1, 3, precyzja=15, epsilon=1e-15)\n",
    "print(\"Miejsce zerowe: {} \\tIlość iteracji: {}\".format(temp_a, temp_b))\n",
    "temp_a, temp_b = metoda_Newtona( f_3, 1, 3, precyzja=33, epsilon=1e-33)\n",
    "print(\"Miejsce zerowe: {} \\tIlość iteracji: {}\".format(temp_a, temp_b))\n",
    "\n"
   ],
   "metadata": {
    "collapsed": false,
    "pycharm": {
     "name": "#%%\n"
    }
   }
  },
  {
   "cell_type": "markdown",
   "metadata": {},
   "source": [
    "##### Porównaj zbieżność metody ze zbieżnością uzyskaną dla metody bisekcji."
   ]
  },
  {
   "cell_type": "code",
   "execution_count": 8,
   "outputs": [
    {
     "name": "stdout",
     "output_type": "stream",
     "text": [
      "Bisekcja: Miejsce zerowe: 4.730041 \tIlość iteracji: 26\n",
      "Newton:   Miejsce zerowe: 4.730041 \tIlość iteracji: 5\n",
      "\n",
      "Bisekcja: Miejsce zerowe: 4.7300407448627 \tIlość iteracji: 52\n",
      "Newton:   Miejsce zerowe: 4.7300407448627 \tIlość iteracji: 6\n",
      "\n",
      "Bisekcja: Miejsce zerowe: 4.73004074486270402602404810083389 \tIlość iteracji: 112\n",
      "Newton:   Miejsce zerowe: 4.73004074486270402602404810083388 \tIlość iteracji: 7\n",
      "\n"
     ]
    }
   ],
   "source": [
    "temp_a_1, temp_b_1, temp_c_1 = bisekcja( f_1, 3 * pi / 2, 2 * pi, precyzja=7, epsilon=1e-7)\n",
    "print(\"Bisekcja: Miejsce zerowe: {} \\tIlość iteracji: {}\".format(temp_a_1, temp_c_1))\n",
    "temp_a_2, temp_b_2 = metoda_Newtona( f_1, 3 * pi / 2, 2 * pi, precyzja=7, epsilon=1e-7)\n",
    "print(\"Newton:   Miejsce zerowe: {} \\tIlość iteracji: {}\\n\".format(temp_a_2, temp_b_2))\n",
    "\n",
    "temp_a_1, temp_b_1, temp_c_1 = bisekcja( f_1, 3 * pi / 2, 2 * pi, precyzja=15, epsilon=1e-15)\n",
    "print(\"Bisekcja: Miejsce zerowe: {} \\tIlość iteracji: {}\".format(temp_a_1, temp_c_1))\n",
    "temp_a_2, temp_b_2 = metoda_Newtona( f_1, 3 * pi / 2, 2 * pi, precyzja=15, epsilon=1e-15)\n",
    "print(\"Newton:   Miejsce zerowe: {} \\tIlość iteracji: {}\\n\".format(temp_a_2, temp_b_2))\n",
    "\n",
    "temp_a_1, temp_b_1, temp_c_1 = bisekcja( f_1, 3 * pi / 2, 2 * pi, precyzja=33, epsilon=1e-33)\n",
    "print(\"Bisekcja: Miejsce zerowe: {} \\tIlość iteracji: {}\".format(temp_a_1, temp_c_1))\n",
    "temp_a_2, temp_b_2 = metoda_Newtona( f_1, 3 * pi / 2, 2 * pi, precyzja=33, epsilon=1e-33)\n",
    "print(\"Newton:   Miejsce zerowe: {} \\tIlość iteracji: {}\\n\".format(temp_a_2, temp_b_2))"
   ],
   "metadata": {
    "collapsed": false,
    "pycharm": {
     "name": "#%%\n"
    }
   }
  },
  {
   "cell_type": "markdown",
   "source": [
    "Różnice w obliczonych miejscach zerowych są znikome, prawie żadne (ostatnia cyfra przy precyzji=33).\n",
    "\n",
    "Ilość iteracji poprawiła się ogromnie."
   ],
   "metadata": {
    "collapsed": false,
    "pycharm": {
     "name": "#%% md\n"
    }
   }
  },
  {
   "cell_type": "markdown",
   "metadata": {},
   "source": [
    "#### Zadanie 2 - Metoda siecznych\n",
    "Napisz funkcję realizującą metodę siecznych w oparciu o arytmetykę o zmiennej precyzji (mpmath.mpf). Funkcja powinna stosować te same kryteria stopu co funkcja realizująca metodę Newtona. Przetestuj działanie metody dla funkcji podanych na początku instrukcji. "
   ]
  },
  {
   "cell_type": "code",
   "execution_count": 9,
   "outputs": [],
   "source": [
    "def metoda_siecznych(funkcja, a, b, precyzja, epsilon, max_liczba_iteracji=1000):\n",
    "    mp.dps = precyzja\n",
    "    a = mpf(a)\n",
    "    b = mpf(b)\n",
    "    x_0 = a\n",
    "    x_1 = b\n",
    "\n",
    "    i = 0\n",
    "    while i < max_liczba_iteracji:\n",
    "        if abs(x_0 - x_1) < epsilon:\n",
    "            break\n",
    "        x_2 = ( funkcja(x_1) * x_0 - funkcja(x_0) * x_1 ) / ( funkcja(x_1) - funkcja(x_0) )\n",
    "        x_0 = x_1\n",
    "        x_1 = x_2\n",
    "        i += 1\n",
    "\n",
    "    return x_1, i"
   ],
   "metadata": {
    "collapsed": false,
    "pycharm": {
     "name": "#%%\n"
    }
   }
  },
  {
   "cell_type": "code",
   "execution_count": 10,
   "outputs": [
    {
     "name": "stdout",
     "output_type": "stream",
     "text": [
      "Metoda siecznych\n",
      "\n",
      "Funkcja 1\n",
      "Miejsce zerowe: 4.730041 \tIlość iteracji: 6\n",
      "Miejsce zerowe: 4.7300407448627 \tIlość iteracji: 7\n",
      "Miejsce zerowe: 4.73004074486270402602404810083388 \tIlość iteracji: 9\n",
      "\n",
      "Funkcja 2\n",
      "Miejsce zerowe: 0.8603336 \tIlość iteracji: 24\n",
      "Miejsce zerowe: 0.86033358901938 \tIlość iteracji: 26\n",
      "Miejsce zerowe: 0.860333589019379762483893424137662 \tIlość iteracji: 33\n",
      "\n",
      "Funkcja 3\n",
      "Miejsce zerowe: 1.829384 \tIlość iteracji: 10\n",
      "Miejsce zerowe: 1.82938360193385 \tIlość iteracji: 11\n",
      "Miejsce zerowe: 1.82938360193384881713621294681415 \tIlość iteracji: 13\n"
     ]
    }
   ],
   "source": [
    "print(\"Metoda siecznych\")\n",
    "\n",
    "print(\"\\nFunkcja 1\")\n",
    "temp_a, temp_b = metoda_siecznych( f_1, 3 * pi / 2, 2 * pi, precyzja=7, epsilon=1e-7)\n",
    "print(\"Miejsce zerowe: {} \\tIlość iteracji: {}\".format(temp_a, temp_b))\n",
    "temp_a, temp_b = metoda_siecznych( f_1, 3 * pi / 2, 2 * pi, precyzja=15, epsilon=1e-15)\n",
    "print(\"Miejsce zerowe: {} \\tIlość iteracji: {}\".format(temp_a, temp_b))\n",
    "temp_a, temp_b = metoda_siecznych( f_1, 3 * pi / 2, 2 * pi, precyzja=33, epsilon=1e-33)\n",
    "print(\"Miejsce zerowe: {} \\tIlość iteracji: {}\".format(temp_a, temp_b))\n",
    "\n",
    "print(\"\\nFunkcja 2\")\n",
    "temp_a, temp_b = metoda_siecznych( f_2, 1e-5, pi / 2, precyzja=7, epsilon=1e-7)\n",
    "print(\"Miejsce zerowe: {} \\tIlość iteracji: {}\".format(temp_a, temp_b))\n",
    "temp_a, temp_b = metoda_siecznych( f_2, 1e-5, pi / 2, precyzja=15, epsilon=1e-15)\n",
    "print(\"Miejsce zerowe: {} \\tIlość iteracji: {}\".format(temp_a, temp_b))\n",
    "temp_a, temp_b = metoda_siecznych( f_2, 1e-5, pi / 2, precyzja=33, epsilon=1e-33)\n",
    "print(\"Miejsce zerowe: {} \\tIlość iteracji: {}\".format(temp_a, temp_b))\n",
    "\n",
    "print(\"\\nFunkcja 3\")\n",
    "temp_a, temp_b = metoda_siecznych( f_3, 1, 3, precyzja=7, epsilon=1e-7)\n",
    "print(\"Miejsce zerowe: {} \\tIlość iteracji: {}\".format(temp_a, temp_b))\n",
    "temp_a, temp_b = metoda_siecznych( f_3, 1, 3, precyzja=15, epsilon=1e-15)\n",
    "print(\"Miejsce zerowe: {} \\tIlość iteracji: {}\".format(temp_a, temp_b))\n",
    "temp_a, temp_b = metoda_siecznych( f_3, 1, 3, precyzja=33, epsilon=1e-33)\n",
    "print(\"Miejsce zerowe: {} \\tIlość iteracji: {}\".format(temp_a, temp_b))"
   ],
   "metadata": {
    "collapsed": false,
    "pycharm": {
     "name": "#%%\n"
    }
   }
  },
  {
   "cell_type": "markdown",
   "source": [
    "##### Porównaj zbieżność metody ze zbieżnością uzyskaną dla metody bisekcji oraz metody Newtona."
   ],
   "metadata": {
    "collapsed": false
   }
  },
  {
   "cell_type": "code",
   "execution_count": 11,
   "outputs": [
    {
     "name": "stdout",
     "output_type": "stream",
     "text": [
      "Bisekcja: Miejsce zerowe: 4.730041 \tIlość iteracji: 26\n",
      "Newton:   Miejsce zerowe: 4.730041 \tIlość iteracji: 5\n",
      "Sieczne:  Miejsce zerowe: 4.730041 \tIlość iteracji: 6\n",
      "\n",
      "Bisekcja: Miejsce zerowe: 4.7300407448627 \tIlość iteracji: 52\n",
      "Newton:   Miejsce zerowe: 4.7300407448627 \tIlość iteracji: 6\n",
      "Sieczne:  Miejsce zerowe: 4.7300407448627 \tIlość iteracji: 7\n",
      "\n",
      "Bisekcja: Miejsce zerowe: 4.73004074486270402602404810083389 \tIlość iteracji: 112\n",
      "Newton:   Miejsce zerowe: 4.73004074486270402602404810083388 \tIlość iteracji: 7\n",
      "Sieczne:  Miejsce zerowe: 4.73004074486270402602404810083388 \tIlość iteracji: 9\n",
      "\n"
     ]
    }
   ],
   "source": [
    "temp_a_1, temp_b_1, temp_c_1 = bisekcja( f_1, 3 * pi / 2, 2 * pi, precyzja=7, epsilon=1e-7)\n",
    "print(\"Bisekcja: Miejsce zerowe: {} \\tIlość iteracji: {}\".format(temp_a_1, temp_c_1))\n",
    "temp_a_2, temp_b_2 = metoda_Newtona( f_1, 3 * pi / 2, 2 * pi, precyzja=7, epsilon=1e-7)\n",
    "print(\"Newton:   Miejsce zerowe: {} \\tIlość iteracji: {}\".format(temp_a_2, temp_b_2))\n",
    "temp_a_3, temp_b_3 = metoda_siecznych( f_1, 3 * pi / 2, 2 * pi, precyzja=7, epsilon=1e-7)\n",
    "print(\"Sieczne:  Miejsce zerowe: {} \\tIlość iteracji: {}\\n\".format(temp_a_3, temp_b_3))\n",
    "\n",
    "\n",
    "temp_a_1, temp_b_1, temp_c_1 = bisekcja( f_1, 3 * pi / 2, 2 * pi, precyzja=15, epsilon=1e-15)\n",
    "print(\"Bisekcja: Miejsce zerowe: {} \\tIlość iteracji: {}\".format(temp_a_1, temp_c_1))\n",
    "temp_a_2, temp_b_2 = metoda_Newtona( f_1, 3 * pi / 2, 2 * pi, precyzja=15, epsilon=1e-15)\n",
    "print(\"Newton:   Miejsce zerowe: {} \\tIlość iteracji: {}\".format(temp_a_2, temp_b_2))\n",
    "temp_a_3, temp_b_3 = metoda_siecznych( f_1, 3 * pi / 2, 2 * pi, precyzja=15, epsilon=1e-15)\n",
    "print(\"Sieczne:  Miejsce zerowe: {} \\tIlość iteracji: {}\\n\".format(temp_a_3, temp_b_3))\n",
    "\n",
    "\n",
    "\n",
    "temp_a_1, temp_b_1, temp_c_1 = bisekcja( f_1, 3 * pi / 2, 2 * pi, precyzja=33, epsilon=1e-33)\n",
    "print(\"Bisekcja: Miejsce zerowe: {} \\tIlość iteracji: {}\".format(temp_a_1, temp_c_1))\n",
    "temp_a_2, temp_b_2 = metoda_Newtona( f_1, 3 * pi / 2, 2 * pi, precyzja=33, epsilon=1e-33)\n",
    "print(\"Newton:   Miejsce zerowe: {} \\tIlość iteracji: {}\".format(temp_a_2, temp_b_2))\n",
    "temp_a_3, temp_b_3 = metoda_siecznych( f_1, 3 * pi / 2, 2 * pi, precyzja=33, epsilon=1e-33)\n",
    "print(\"Sieczne:  Miejsce zerowe: {} \\tIlość iteracji: {}\\n\".format(temp_a_3, temp_b_3))"
   ],
   "metadata": {
    "collapsed": false,
    "pycharm": {
     "name": "#%%\n"
    }
   }
  },
  {
   "cell_type": "markdown",
   "source": [
    "Różnice w obliczonych miejscach zerowych są znikome, prawie żadne (ostatnia cyfra przy precyzji=33).\n",
    "\n",
    "Ilość iteracji dla metod siecznych jest niewiele większa od ilości iteracji przy użyciu metody Newtona.\n",
    "\n",
    "Metoda bisekcji jest najgorszą z zaimplementowanych dziś przeze mnie metod.\n",
    "\n",
    "\n",
    "Metoda Newtona, mimo swojej szybkości zakłada, że istnieje pochodna z badanej funkcji."
   ],
   "metadata": {
    "collapsed": false,
    "pycharm": {
     "name": "#%% md\n"
    }
   }
  }
 ],
 "metadata": {
  "kernelspec": {
   "display_name": "Python 3",
   "language": "python",
   "name": "python3"
  },
  "language_info": {
   "codemirror_mode": {
    "name": "ipython",
    "version": 3
   },
   "file_extension": ".py",
   "mimetype": "text/x-python",
   "name": "python",
   "nbconvert_exporter": "python",
   "pygments_lexer": "ipython3",
   "version": "3.7.3"
  }
 },
 "nbformat": 4,
 "nbformat_minor": 2
}