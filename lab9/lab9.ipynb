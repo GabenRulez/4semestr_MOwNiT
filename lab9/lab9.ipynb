{
 "cells": [
  {
   "cell_type": "markdown",
   "metadata": {
    "collapsed": true,
    "pycharm": {
     "name": "#%% md\n"
    }
   },
   "source": [
    "### Sprawozdanie - Faktoryzacja QR\n",
    "<div style=\"text-align: right\"> Wojciech Kosztyła </div>"
   ]
  },
  {
   "cell_type": "code",
   "execution_count": 497,
   "outputs": [],
   "source": [
    "import numpy as np\n",
    "from matplotlib import pyplot as plt"
   ],
   "metadata": {
    "collapsed": false,
    "pycharm": {
     "name": "#%%\n"
    }
   }
  },
  {
   "cell_type": "markdown",
   "source": [
    "#### Zadanie 1\n",
    "\n",
    "Napisz funkcję dokonującą faktoryzacji $QR$ macierzy $A \\epsilon R^{nxn}$, $A = [a_{1}, a_{2},...,a_{n}]$\n",
    "\n",
    "($a_{i}$ to kolejne kolumny macierzy $A$) klasyczną metodą ortogonalizacji Grama-Schmidta:\n",
    "\n",
    "Dla $k = 1$:\n",
    "\n",
    "$u_{1} ←\\frac{a_{1}}{||a_{1}||}$\n",
    "\n",
    "\n",
    "Dla $k > 1$:\n",
    "\n",
    "$u_{k} ←a_{k} − \\sum_{i=1}^{k-1}[u_{i},a_{k}]u_{i}$\n",
    "\n",
    "$u_{k} ← \\frac{u_{k}}{||u_{k}||}$"
   ],
   "metadata": {
    "collapsed": false,
    "pycharm": {
     "name": "#%% md\n"
    }
   }
  },
  {
   "cell_type": "code",
   "execution_count": 498,
   "outputs": [],
   "source": [
    "def norma_z_wektora(wektor):\n",
    "    wynik = 0\n",
    "    for wartosc in wektor:\n",
    "        wynik += wartosc ** 2\n",
    "    return np.sqrt(wynik)"
   ],
   "metadata": {
    "collapsed": false,
    "pycharm": {
     "name": "#%%\n"
    }
   }
  },
  {
   "cell_type": "code",
   "execution_count": 499,
   "outputs": [],
   "source": [
    "def wylicz_Q(A):\n",
    "    n = len(A)\n",
    "    wektory_U = np.zeros((n,n))\n",
    "\n",
    "    for k in range(n):\n",
    "        if k==0:\n",
    "            wektory_U[:,k] = A[:,k] / norma_z_wektora(A[:,k])\n",
    "        else:\n",
    "            temp = np.zeros(n, dtype=float)\n",
    "            for j in range(k):\n",
    "                temp += np.dot(wektory_U[:,j], A[:,k]) * wektory_U[:,j]\n",
    "            u_k = A[:,k] - temp\n",
    "            wektory_U[:,k] = u_k / norma_z_wektora(u_k)\n",
    "\n",
    "    return wektory_U"
   ],
   "metadata": {
    "collapsed": false,
    "pycharm": {
     "name": "#%%\n"
    }
   }
  },
  {
   "cell_type": "markdown",
   "source": [
    "Postanowiłem nie tworzyć oddzielnej funkcji do wyliczania pojedynczego wektora $u_{i}$, gdyż korzystają one z wartości wczesniej obliczonych."
   ],
   "metadata": {
    "collapsed": false
   }
  },
  {
   "cell_type": "code",
   "execution_count": 500,
   "outputs": [],
   "source": [
    "def faktoryzacja_QR(A):\n",
    "    n = len(A)\n",
    "    Q = wylicz_Q(A)\n",
    "    R = np.zeros((n,n), dtype=float)\n",
    "    for i in range(n):\n",
    "        for j in range(i+1):\n",
    "            R[j][i] = np.dot(Q[:,j], A[:,i])\n",
    "    return Q,R"
   ],
   "metadata": {
    "collapsed": false,
    "pycharm": {
     "name": "#%%\n"
    }
   }
  },
  {
   "cell_type": "code",
   "execution_count": 501,
   "outputs": [
    {
     "name": "stdout",
     "output_type": "stream",
     "text": [
      "Moja implementacja\n",
      "\n",
      "Q:\n",
      "[[ 0.12309149  0.35805744  0.9255503 ]\n",
      " [ 0.49236596  0.78772636 -0.37022012]\n",
      " [ 0.86164044 -0.50128041  0.07933288]]\n",
      "\n",
      "R:\n",
      "[[ 8.1240384   2.7080128  11.07823419]\n",
      " [ 0.          4.65474668  1.28900677]\n",
      " [ 0.          0.          1.26932612]]\n",
      "\n",
      "QxR:\n",
      "[[ 1.00000000e+00  2.00000000e+00  3.00000000e+00]\n",
      " [ 4.00000000e+00  5.00000000e+00  6.00000000e+00]\n",
      " [ 7.00000000e+00 -1.35005032e-16  9.00000000e+00]]\n",
      "\n",
      "\n",
      "\n",
      "Biblioteczne\n",
      "\n",
      "Q:\n",
      "[[-0.12309149 -0.35805744 -0.9255503 ]\n",
      " [-0.49236596 -0.78772636  0.37022012]\n",
      " [-0.86164044  0.50128041 -0.07933288]]\n",
      "\n",
      "R:\n",
      "[[ -8.1240384   -2.7080128  -11.07823419]\n",
      " [  0.          -4.65474668  -1.28900677]\n",
      " [  0.           0.          -1.26932612]]\n",
      "\n",
      "QxR:\n",
      "[[1.0000000e+00 2.0000000e+00 3.0000000e+00]\n",
      " [4.0000000e+00 5.0000000e+00 6.0000000e+00]\n",
      " [7.0000000e+00 1.1972626e-15 9.0000000e+00]]\n"
     ]
    }
   ],
   "source": [
    "macierz_1 = np.array([[1,   2,  3],\n",
    "                      [4,   5,  6],\n",
    "                      [7,   0,  9]])\n",
    "\n",
    "q1a,r1a = faktoryzacja_QR(macierz_1)\n",
    "q1b,r1b = np.linalg.qr(macierz_1)\n",
    "\n",
    "print(\"Moja implementacja\")\n",
    "print(\"\\nQ:\")\n",
    "print(q1a)\n",
    "print(\"\\nR:\")\n",
    "print(r1a)\n",
    "print(\"\\nQxR:\")\n",
    "print(np.dot(q1a, r1a))\n",
    "print(\"\\n\\n\")\n",
    "print(\"Biblioteczne\")\n",
    "print(\"\\nQ:\")\n",
    "print(q1b)\n",
    "print(\"\\nR:\")\n",
    "print(r1b)\n",
    "print(\"\\nQxR:\")\n",
    "print(np.dot(q1b, r1b))"
   ],
   "metadata": {
    "collapsed": false,
    "pycharm": {
     "name": "#%%\n"
    }
   }
  },
  {
   "cell_type": "markdown",
   "source": [
    "Jak widać różnice między moją implementacją a funkcją biblioteczną są znikome. Różnica w znakach Q i R nie zmienia faktu, że moja implementacja jest poprawna - w końcu $(-) * (-) = (+)$."
   ],
   "metadata": {
    "collapsed": false,
    "pycharm": {
     "name": "#%% md\n"
    }
   }
  },
  {
   "cell_type": "code",
   "execution_count": 502,
   "outputs": [
    {
     "name": "stdout",
     "output_type": "stream",
     "text": [
      "Moja implementacja\n",
      "\n",
      "Q:\n",
      "[[ 0.21892265  0.32043471  0.39913702  0.83071302]\n",
      " [ 0.62601548 -0.42394731 -0.59050296  0.28227565]\n",
      " [ 0.16333577  0.84344336 -0.49483241 -0.13063536]\n",
      " [ 0.7304101   0.0786992   0.49712853 -0.46170417]]\n",
      "R:\n",
      "[[1.29011711 0.68776918 1.04703171 0.77834981]\n",
      " [0.         0.79204339 0.8834641  0.52366254]\n",
      " [0.         0.         0.28908038 0.15267259]\n",
      " [0.         0.         0.         0.46181082]]\n",
      "QxR:\n",
      "[[0.28243586 0.40436644 0.6276942  0.78276759]\n",
      " [0.80763328 0.09476949 0.110213   0.30545804]\n",
      " [0.21072228 0.78038105 0.77312333 0.43293589]\n",
      " [0.94231457 0.56468674 0.97800056 0.4724043 ]]\n",
      "\n",
      "\n",
      "Bibliotecznie\n",
      "\n",
      "Q:\n",
      "[[-0.21892265  0.32043471  0.39913702 -0.83071302]\n",
      " [-0.62601548 -0.42394731 -0.59050296 -0.28227565]\n",
      " [-0.16333577  0.84344336 -0.49483241  0.13063536]\n",
      " [-0.7304101   0.0786992   0.49712853  0.46170417]]\n",
      "R:\n",
      "[[-1.29011711 -0.68776918 -1.04703171 -0.77834981]\n",
      " [ 0.          0.79204339  0.8834641   0.52366254]\n",
      " [ 0.          0.          0.28908038  0.15267259]\n",
      " [ 0.          0.          0.         -0.46181082]]\n",
      "QxR:\n",
      "[[0.28243586 0.40436644 0.6276942  0.78276759]\n",
      " [0.80763328 0.09476949 0.110213   0.30545804]\n",
      " [0.21072228 0.78038105 0.77312333 0.43293589]\n",
      " [0.94231457 0.56468674 0.97800056 0.4724043 ]]\n",
      "\n",
      "\n",
      "Moja implementacja\n",
      "\n",
      "Q:\n",
      "[[ 0.52122712 -0.63161046 -0.55875298  0.13109396]\n",
      " [ 0.55274551 -0.25985137  0.74933755 -0.25581811]\n",
      " [ 0.26357588  0.23192569  0.19840235  0.91508182]\n",
      " [ 0.59440933  0.69264418 -0.29483022 -0.28283693]]\n",
      "R:\n",
      "[[ 1.56769112  0.76810111  1.14301621  0.4728166 ]\n",
      " [ 0.          0.36831553  0.34104085  0.07258728]\n",
      " [ 0.          0.          0.20305388 -0.02115372]\n",
      " [ 0.          0.          0.          0.03591041]]\n",
      "QxR:\n",
      "[[0.81712313 0.16772319 0.26690911 0.21712529]\n",
      " [0.86653423 0.32885714 0.69533304 0.21744754]\n",
      " [0.41320556 0.28787476 0.420654   0.17012192]\n",
      " [0.93185022 0.71167807 0.85577304 0.32740373]]\n",
      "\n",
      "\n",
      "Bibliotecznie\n",
      "\n",
      "Q:\n",
      "[[-0.52122712 -0.63161046  0.55875298 -0.13109396]\n",
      " [-0.55274551 -0.25985137 -0.74933755  0.25581811]\n",
      " [-0.26357588  0.23192569 -0.19840235 -0.91508182]\n",
      " [-0.59440933  0.69264418  0.29483022  0.28283693]]\n",
      "R:\n",
      "[[-1.56769112 -0.76810111 -1.14301621 -0.4728166 ]\n",
      " [ 0.          0.36831553  0.34104085  0.07258728]\n",
      " [ 0.          0.         -0.20305388  0.02115372]\n",
      " [ 0.          0.          0.         -0.03591041]]\n",
      "QxR:\n",
      "[[0.81712313 0.16772319 0.26690911 0.21712529]\n",
      " [0.86653423 0.32885714 0.69533304 0.21744754]\n",
      " [0.41320556 0.28787476 0.420654   0.17012192]\n",
      " [0.93185022 0.71167807 0.85577304 0.32740373]]\n",
      "\n",
      "\n",
      "Moja implementacja\n",
      "\n",
      "Q:\n",
      "[[ 2.92657282e-01 -1.09059884e-01  8.06103640e-01  5.02647568e-01]\n",
      " [ 4.23399176e-01 -8.64595768e-01 -2.70568399e-01 -1.93763366e-04]\n",
      " [ 7.93810978e-01  4.89649329e-01 -3.22584217e-01  1.61391107e-01]\n",
      " [ 3.23958307e-01  2.86990403e-02  4.15847430e-01 -8.49292821e-01]]\n",
      "R:\n",
      "[[ 0.98384254  0.52218984  0.79785609  1.01632389]\n",
      " [ 0.          0.2049672  -0.11628566 -0.52140102]\n",
      " [ 0.          0.          0.42947468  0.41465738]\n",
      " [ 0.          0.          0.          0.33494953]]\n",
      "QxR:\n",
      "[[0.28792868 0.13046896 0.5923816  0.85691691]\n",
      " [0.41655812 0.04388098 0.32214942 0.76885373]\n",
      " [0.78098501 0.51488208 0.43786597 0.47176135]\n",
      " [0.31872396 0.1750501  0.43373076 0.20224683]]\n",
      "\n",
      "\n",
      "Bibliotecznie\n",
      "\n",
      "Q:\n",
      "[[-2.92657282e-01 -1.09059884e-01  8.06103640e-01 -5.02647568e-01]\n",
      " [-4.23399176e-01 -8.64595768e-01 -2.70568399e-01  1.93763366e-04]\n",
      " [-7.93810978e-01  4.89649329e-01 -3.22584217e-01 -1.61391107e-01]\n",
      " [-3.23958307e-01  2.86990403e-02  4.15847430e-01  8.49292821e-01]]\n",
      "R:\n",
      "[[-0.98384254 -0.52218984 -0.79785609 -1.01632389]\n",
      " [ 0.          0.2049672  -0.11628566 -0.52140102]\n",
      " [ 0.          0.          0.42947468  0.41465738]\n",
      " [ 0.          0.          0.         -0.33494953]]\n",
      "QxR:\n",
      "[[0.28792868 0.13046896 0.5923816  0.85691691]\n",
      " [0.41655812 0.04388098 0.32214942 0.76885373]\n",
      " [0.78098501 0.51488208 0.43786597 0.47176135]\n",
      " [0.31872396 0.1750501  0.43373076 0.20224683]]\n",
      "\n",
      "\n",
      "Moja implementacja\n",
      "\n",
      "Q:\n",
      "[[ 0.60681155  0.46015844 -0.11310297 -0.6381549 ]\n",
      " [ 0.35235378 -0.03131895  0.92343072  0.14880072]\n",
      " [ 0.36517557  0.4969839  -0.24312831  0.74869381]\n",
      " [ 0.61177885 -0.73503764 -0.27453972  0.10037055]]\n",
      "R:\n",
      "[[ 1.38295076  0.68422212  1.33019147  0.38242047]\n",
      " [ 0.          0.52651641 -0.20094168 -0.18394968]\n",
      " [ 0.          0.          0.26566646  0.21708957]\n",
      " [ 0.          0.          0.          0.11701765]]\n",
      "QxR:\n",
      "[[0.8391905  0.65747486 0.68466288 0.0481823 ]\n",
      " [0.48728792 0.22459831 0.72031584 0.35838789]\n",
      " [0.50501983 0.51153138 0.32129761 0.08306036]\n",
      " [0.84606002 0.03158324 0.88854671 0.32131211]]\n",
      "\n",
      "\n",
      "Bibliotecznie\n",
      "\n",
      "Q:\n",
      "[[-0.60681155  0.46015844  0.11310297 -0.6381549 ]\n",
      " [-0.35235378 -0.03131895 -0.92343072  0.14880072]\n",
      " [-0.36517557  0.4969839   0.24312831  0.74869381]\n",
      " [-0.61177885 -0.73503764  0.27453972  0.10037055]]\n",
      "R:\n",
      "[[-1.38295076 -0.68422212 -1.33019147 -0.38242047]\n",
      " [ 0.          0.52651641 -0.20094168 -0.18394968]\n",
      " [ 0.          0.         -0.26566646 -0.21708957]\n",
      " [ 0.          0.          0.          0.11701765]]\n",
      "QxR:\n",
      "[[0.8391905  0.65747486 0.68466288 0.0481823 ]\n",
      " [0.48728792 0.22459831 0.72031584 0.35838789]\n",
      " [0.50501983 0.51153138 0.32129761 0.08306036]\n",
      " [0.84606002 0.03158324 0.88854671 0.32131211]]\n",
      "\n",
      "\n",
      "Moja implementacja\n",
      "\n",
      "Q:\n",
      "[[ 0.26966286  0.30278494 -0.06758767 -0.91161128]\n",
      " [ 0.50233026  0.34177449 -0.72863849  0.3161336 ]\n",
      " [ 0.81920616 -0.37048752  0.4289393   0.08747196]\n",
      " [ 0.0620284   0.80885751  0.52964982  0.24773589]]\n",
      "R:\n",
      "[[ 0.99459861  0.59110015  0.6276815   1.27747455]\n",
      " [ 0.          1.06687542  0.01970257  0.438414  ]\n",
      " [ 0.          0.          0.39475973 -0.05467283]\n",
      " [ 0.          0.          0.          0.12321313]]\n",
      "QxR:\n",
      "[[0.2682063  0.48243157 0.14854714 0.36860532]\n",
      " [0.49961698 0.6615583  0.03440011 0.87034138]\n",
      " [0.81478131 0.08896886 0.67622896 0.87141448]\n",
      " [0.06169336 0.89961519 0.26395507 0.43542102]]\n",
      "\n",
      "\n",
      "Bibliotecznie\n",
      "\n",
      "Q:\n",
      "[[-0.26966286 -0.30278494  0.06758767  0.91161128]\n",
      " [-0.50233026 -0.34177449  0.72863849 -0.3161336 ]\n",
      " [-0.81920616  0.37048752 -0.4289393  -0.08747196]\n",
      " [-0.0620284  -0.80885751 -0.52964982 -0.24773589]]\n",
      "R:\n",
      "[[-0.99459861 -0.59110015 -0.6276815  -1.27747455]\n",
      " [ 0.         -1.06687542 -0.01970257 -0.438414  ]\n",
      " [ 0.          0.         -0.39475973  0.05467283]\n",
      " [ 0.          0.          0.         -0.12321313]]\n",
      "QxR:\n",
      "[[0.2682063  0.48243157 0.14854714 0.36860532]\n",
      " [0.49961698 0.6615583  0.03440011 0.87034138]\n",
      " [0.81478131 0.08896886 0.67622896 0.87141448]\n",
      " [0.06169336 0.89961519 0.26395507 0.43542102]]\n",
      "\n",
      "\n"
     ]
    }
   ],
   "source": [
    "def random_int(min_wielkosc, max_wielkosc):\n",
    "    return int(min_wielkosc + (max_wielkosc-min_wielkosc)*np.random.rand(1)[0])\n",
    "\n",
    "ilosc_testow = 5\n",
    "min_wielkosc = 3\n",
    "max_wielkosc = 7\n",
    "for i in range(ilosc_testow):\n",
    "    n = random_int(min_wielkosc, max_wielkosc)\n",
    "    temp_macierz = np.random.rand(n,n)\n",
    "\n",
    "    Q_moje, R_moje = faktoryzacja_QR(temp_macierz)\n",
    "    Q_bibl, R_bibl = np.linalg.qr(temp_macierz)\n",
    "\n",
    "    print(\"Moja implementacja\")\n",
    "    print(\"\\nQ:\\n{}\\nR:\\n{}\\nQxR:\\n{}\\n\\n\".format(Q_moje, R_moje, np.dot(Q_moje, R_moje)))\n",
    "    print(\"Bibliotecznie\")\n",
    "    print(\"\\nQ:\\n{}\\nR:\\n{}\\nQxR:\\n{}\\n\\n\".format(Q_bibl, R_bibl, np.dot(Q_bibl, R_bibl)))"
   ],
   "metadata": {
    "collapsed": false,
    "pycharm": {
     "name": "#%%\n"
    }
   }
  },
  {
   "cell_type": "markdown",
   "source": [
    "We wszystkich testach różnica pomiędzy moją implementacją a funkcjami bibliotecznymi jest bardzo znikoma."
   ],
   "metadata": {
    "collapsed": false
   }
  },
  {
   "cell_type": "markdown",
   "source": [
    "Wygeneruj 30-50 przykładowych macierzy $8×8$ o różnym wskaźniku uwarunkowania $cond(A_{i})$ (stosunek największej do najmniejszej wartości osobliwej). Wykorzystaj w tym celu SVD oraz biblioteczną funkcję realizującą dekompozycję QR (potrzebne będą dwie losowe macierze ortogonalne oraz diagonalna macierz odpowiednio szybko malejących wartości osobliwych)."
   ],
   "metadata": {
    "collapsed": false
   }
  },
  {
   "cell_type": "code",
   "execution_count": 503,
   "outputs": [],
   "source": [
    "def stworz_macierz_condA(condA, n):\n",
    "    temp_macierz = np.random.rand(n,n)\n",
    "    u, s, vh = np.linalg.svd(temp_macierz)      # s ustawione malejąco\n",
    "\n",
    "    s[0] = condA * s[n-1]\n",
    "    low = s[n-1]\n",
    "    high = s[0]\n",
    "    for i in range(1, n-1):\n",
    "        s[i] = np.random.uniform(low, high)\n",
    "\n",
    "    macierz_diagonalna = np.diag(s)\n",
    "    return np.dot(np.dot(u, macierz_diagonalna), vh)\n",
    "\n"
   ],
   "metadata": {
    "collapsed": false,
    "pycharm": {
     "name": "#%%\n"
    }
   }
  },
  {
   "cell_type": "markdown",
   "source": [
    " Dla każdej z uzyskanych w ten sposób macierzy $A_{i}$\n",
    " wyznacz faktoryzację QR korzystając z zaimplementowanej funkcji ($A_{i} = Q_{i}R_{i}$).\n",
    " Przedstaw zależność $||I−Q^{T}_{i}Q_{i}||$ od $cond(A_{i})$.\n"
   ],
   "metadata": {
    "collapsed": false,
    "pycharm": {
     "name": "#%% md\n"
    }
   }
  },
  {
   "cell_type": "code",
   "execution_count": 504,
   "outputs": [
    {
     "data": {
      "text/plain": "[<matplotlib.lines.Line2D at 0x1bb6710ffd0>]"
     },
     "execution_count": 504,
     "metadata": {},
     "output_type": "execute_result"
    },
    {
     "data": {
      "text/plain": "<Figure size 432x288 with 1 Axes>",
      "image/png": "[encoded data removed]"
     },
     "metadata": {
      "needs_background": "light"
     },
     "output_type": "display_data"
    }
   ],
   "source": [
    "ile_macierzy = 50\n",
    "macierze = []\n",
    "wartosci_condA = []\n",
    "roznice = []        # I - Qtrans*Q\n",
    "for i in range(ile_macierzy):\n",
    "    wartosc_condA = random_int(10, 10000)\n",
    "    while(wartosc_condA in wartosci_condA):\n",
    "        wartosc_condA = random_int(10, 10000)\n",
    "\n",
    "    wartosci_condA.append(wartosc_condA)\n",
    "    macierz = stworz_macierz_condA(wartosc_condA, 8)\n",
    "    macierze.append(macierz)\n",
    "\n",
    "    Q, R = faktoryzacja_QR(macierz)\n",
    "\n",
    "    I = np.identity(len(Q))\n",
    "\n",
    "    roznica = np.linalg.norm(I - np.dot(Q.transpose(), Q))\n",
    "    roznice.append(roznica)\n",
    "\n",
    "\n",
    "fig1, ax1 = plt.subplots()\n",
    "ax1.set_title(\"Rożnica\")\n",
    "ax1.set_xlabel(\"Wartość condA\")\n",
    "ax1.set_ylabel(\"Wartość różnicy [0,1]\")\n",
    "\n",
    "plt.plot(wartosci_condA, roznice, 'o')\n"
   ],
   "metadata": {
    "collapsed": false,
    "pycharm": {
     "name": "#%%\n"
    }
   }
  },
  {
   "cell_type": "markdown",
   "source": [
    "Rozbieżność jest wynikiem błędu reprezentacji numerycznej danych wejściowych.\n",
    "\n",
    "Błąd zostaje bardzo bliski 0 dla różnych wartości $condA$ ($<1e-11$), a sądzę że rzadkie \"wyskoki\" spowodowane są błędem przy obliczaniu samego błędu."
   ],
   "metadata": {
    "collapsed": false
   }
  },
  {
   "cell_type": "markdown",
   "source": [
    "#### Zadanie 2\n",
    "\n",
    "Napisz funkcję rozwiązującą nadokreślony układ równań liniowych metodą $QR$ korzystając z własności macierzy ortogonalnych:\n",
    "$A^{T} = A^{−1}$, a także z mechanizmu $back substitution$. Następnie wykorzystaj ją do rozwiązania problemu aproksymacji średniokwadratowej dla zbioru punktów podanego tabeli poniżej. Przyjmij model postaci:\n",
    "$f(x) = α_{0} + α_{1}x + α_{2}x^{2}$\n",
    " Przedstaw wizualizację uzyskanego wyniku (punkty oraz funkcja aproksymująca f)."
   ],
   "metadata": {
    "collapsed": false
   }
  },
  {
   "cell_type": "code",
   "execution_count": 505,
   "outputs": [],
   "source": [
    "x = [-5, -4, -3, -2, -1, 0, 1, 2, 3, 4, 5]\n",
    "y = [2, 7, 9, 12, 13, 14, 14, 13, 10, 8, 4]\n",
    "\n",
    "def f(x, a0, a1, a2):\n",
    "    return a0 + a1* x + a2* x**2\n"
   ],
   "metadata": {
    "collapsed": false,
    "pycharm": {
     "name": "#%%\n"
    }
   }
  },
  {
   "cell_type": "markdown",
   "source": [
    "Otrzymałem funkcję w taki sposób:\n",
    "\n",
    "$ Ax = y $\n",
    "\n",
    "Rozkładam $A$ na $QR$\n",
    "\n",
    "$ QRx = y $\n",
    "\n",
    "Przemnażam razy $Q^{-1}$ z lewej strony\n",
    "\n",
    "\n",
    "$ Rx = Q^{-1}y $\n",
    "\n",
    "Z własności macierzy ortogonalnych $Q^{T} = Q^{−1}$\n",
    "\n",
    "$ Rx = Q^{T}y $\n"
   ],
   "metadata": {
    "collapsed": false
   }
  },
  {
   "cell_type": "code",
   "execution_count": 506,
   "outputs": [
    {
     "data": {
      "text/plain": "<matplotlib.legend.Legend at 0x1bb6840fd00>"
     },
     "execution_count": 506,
     "metadata": {},
     "output_type": "execute_result"
    },
    {
     "data": {
      "text/plain": "<Figure size 432x288 with 1 Axes>",
      "image/png": "[encoded data removed]"
     },
     "metadata": {
      "needs_background": "light"
     },
     "output_type": "display_data"
    }
   ],
   "source": [
    "def backwardSubstitution(lewa, prawa):\n",
    "    y = []\n",
    "    for i in range(len(prawa)-1, -1, -1):\n",
    "        temp = prawa[i]\n",
    "        for j in range(len(prawa)-1, i, -1):\n",
    "            temp -= lewa[i][j] * y[j-i-1]\n",
    "        temp /= lewa[i][i]\n",
    "        y.insert(0, temp)\n",
    "    return y\n",
    "\n",
    "\n",
    "n = len(x)\n",
    "macierz_A = np.zeros((n, 3))\n",
    "\n",
    "for i in range(n):\n",
    "    for j in range(3):\n",
    "        macierz_A[i][j] = x[i] ** j\n",
    "\n",
    "Q, R = np.linalg.qr(macierz_A)\n",
    "wyniki = backwardSubstitution(R, np.dot(Q.transpose(), y))\n",
    "\n",
    "\n",
    "wartosci_x = np.linspace(-7, 7, 100)\n",
    "wartosci_y = []\n",
    "for i in wartosci_x:\n",
    "    wartosci_y.append( f(i, wyniki[0], wyniki[1], wyniki[2]) )\n",
    "\n",
    "fig1, ax1 = plt.subplots()\n",
    "ax1.set_title(\"Porównanie aproksymującej funkcji\")\n",
    "ax1.set_xlabel(\"Wartości x\")\n",
    "ax1.set_ylabel(\"Wartości y\")\n",
    "plt.scatter(x, y, label=\"Punkty wejściowe\")\n",
    "plt.plot(wartosci_x, wartosci_y, label=\"Funkcja aproksymująca\")\n",
    "ax1.legend()\n",
    "\n"
   ],
   "metadata": {
    "collapsed": false,
    "pycharm": {
     "name": "#%%\n"
    }
   }
  }
 ],
 "metadata": {
  "kernelspec": {
   "display_name": "Python 3",
   "language": "python",
   "name": "python3"
  },
  "language_info": {
   "codemirror_mode": {
    "name": "ipython",
    "version": 2
   },
   "file_extension": ".py",
   "mimetype": "text/x-python",
   "name": "python",
   "nbconvert_exporter": "python",
   "pygments_lexer": "ipython2",
   "version": "2.7.6"
  }
 },
 "nbformat": 4,
 "nbformat_minor": 0
}