{
 "cells": [
  {
   "cell_type": "markdown",
   "metadata": {
    "collapsed": true,
    "pycharm": {
     "name": "#%% md\n"
    }
   },
   "source": [
    "# Laboratorium 10 - Dyskretna Transformacja Fouriera (Wojciech Kosztyła)"
   ]
  },
  {
   "cell_type": "code",
   "execution_count": 71,
   "outputs": [],
   "source": [
    "import numpy as np\n",
    "from numpy.fft import fft, ifft\n",
    "import matplotlib.pyplot as plt\n",
    "from scipy.linalg import dft\n",
    "import math\n",
    "import time\n",
    "\n",
    "np.set_printoptions(precision=2, suppress=True)"
   ],
   "metadata": {
    "collapsed": false,
    "pycharm": {
     "name": "#%%\n"
    }
   }
  },
  {
   "cell_type": "markdown",
   "source": [
    "### Zadanie 1 FFT"
   ],
   "metadata": {
    "collapsed": false,
    "pycharm": {
     "name": "#%% md\n"
    }
   }
  },
  {
   "cell_type": "markdown",
   "source": [
    "1. Zaimplementuj funkcję realizującą DFT jako iloczyn macierzy Fouriera $F_{n}$ i n-elementowego wektora wejściowego ($y = F_{n}x$).\n",
    "\n",
    "$n = 2^{r}$\n",
    "\n",
    "$[F_{n}]_{jk} = ξ^{jk}$\n",
    "\n",
    "$ξ = e^{\\frac{-2\\pi i}{n}} = \\cos(\\frac{2\\pi}{n}) - i\\sin(\\frac{2\\pi}{n}) = \\omega$"
   ],
   "metadata": {
    "collapsed": false,
    "pycharm": {
     "name": "#%% md\n"
    }
   }
  },
  {
   "cell_type": "code",
   "execution_count": 72,
   "outputs": [],
   "source": [
    "def DFT(x):\n",
    "    n = x.shape[0]\n",
    "    F = np.array( [ [np.exp(-2 * np.pi * 1j * j * k/n) for j in range(n) ] for k in range(n)], dtype=np.complex_)\n",
    "    return F@x"
   ],
   "metadata": {
    "collapsed": false,
    "pycharm": {
     "name": "#%%\n"
    }
   }
  },
  {
   "cell_type": "markdown",
   "source": [
    "2. Zaimplementuj również IDFT korzystając z tożsamości:\n",
    "\n",
    "$F_{n}^{-1}y = \\frac{\\overline{F}_{n}y}{n} = \\frac{\\overline{F_{n}\\overline{y}}}{n}$\n",
    "\n",
    "Sprawdź poprawność działania funkcji realizującej DFT stosując transformację odwrotną ($x = F_{n}^{-1}y$) oraz porównując uzyskane wyniki z wyjściem funkcji bibliotecznej."
   ],
   "metadata": {
    "collapsed": false,
    "pycharm": {
     "name": "#%% md\n"
    }
   }
  },
  {
   "cell_type": "code",
   "execution_count": 73,
   "outputs": [],
   "source": [
    "def IDFT(y):\n",
    "    n = y.shape[0]\n",
    "    F = np.array( [ [np.exp(-2 * np.pi * 1j * j * k/n) for j in range(n) ] for k in range(n)], dtype=np.complex_)\n",
    "    return ( F@y.conj() ).conj()/n"
   ],
   "metadata": {
    "collapsed": false,
    "pycharm": {
     "name": "#%%\n"
    }
   }
  },
  {
   "cell_type": "code",
   "execution_count": 74,
   "outputs": [
    {
     "name": "stdout",
     "output_type": "stream",
     "text": [
      "Wektor x:  [1 2 8 0 4]\n",
      " \n",
      "DFT: Wynik mojej funkcji:           [15.  +0.j   -3.62-2.8j  -1.38+8.78j -1.38-8.78j -3.62+2.8j ]\n",
      "DFT: Wynik funkcji bibliotecznej:   [15.  +0.j   -3.62-2.8j  -1.38+8.78j -1.38-8.78j -3.62+2.8j ]\n",
      " \n",
      "IDFT: Wynik mojej funkcji:          [ 3.  -0.j   -0.72+0.56j -0.28-1.76j -0.28+1.76j -0.72-0.56j]\n",
      "IDFT: Wynik funkcji bibliotecznej:  [ 3.  +0.j   -0.72+0.56j -0.28-1.76j -0.28+1.76j -0.72-0.56j]\n",
      " \n",
      "IDFT + DFT: Wynik mojej funkcji:          [ 1.-0.j  2.-0.j  8.-0.j -0.+0.j  4.+0.j]\n",
      "IDFT + DFT: Wynik funkcji bibliotecznej:  [1.+0.j 2.+0.j 8.+0.j 0.+0.j 4.+0.j]\n",
      " \n"
     ]
    }
   ],
   "source": [
    "wektor_x = np.array([1,2,8,0,4])\n",
    "print(\"Wektor x: \", wektor_x)\n",
    "print(\" \")\n",
    "print(\"DFT: Wynik mojej funkcji:          \", DFT(wektor_x))\n",
    "print(\"DFT: Wynik funkcji bibliotecznej:  \", fft(wektor_x))\n",
    "print(\" \")\n",
    "print(\"IDFT: Wynik mojej funkcji:         \", IDFT(wektor_x))\n",
    "print(\"IDFT: Wynik funkcji bibliotecznej: \", ifft(wektor_x))\n",
    "print(\" \")\n",
    "print(\"IDFT + DFT: Wynik mojej funkcji:         \", IDFT(DFT(wektor_x)))\n",
    "print(\"IDFT + DFT: Wynik funkcji bibliotecznej: \", ifft(fft(wektor_x)))\n",
    "print(\" \")"
   ],
   "metadata": {
    "collapsed": false,
    "pycharm": {
     "name": "#%%\n"
    }
   }
  },
  {
   "cell_type": "markdown",
   "source": [
    "Jak widać, moje funkcje i funkcje biblioteczne zwracają praktycznie takie same wyniki."
   ],
   "metadata": {
    "collapsed": false,
    "pycharm": {
     "name": "#%% md\n"
    }
   }
  },
  {
   "cell_type": "markdown",
   "source": [
    "3. Zaimplementuj rekurencyjny algorytm Cooleya-Turkeya realizujący szybką transformację Fouriera (FFT). Porównaj szybkość jego działania z implementacją biblioteczną oraz implementacją z mnożeniem wektora przez macierz $F_{n}$ dla danych o różnym rozmiarze."
   ],
   "metadata": {
    "collapsed": false,
    "pycharm": {
     "name": "#%% md\n"
    }
   }
  },
  {
   "cell_type": "code",
   "execution_count": 79,
   "outputs": [],
   "source": [
    "def Cooley_Turkey(x):\n",
    "    n = x.shape[0]\n",
    "    if n<=4:\n",
    "        return DFT(x)\n",
    "    else:\n",
    "        x_1 = Cooley_Turkey(x[::2])     # co drugi\n",
    "        x_2 = Cooley_Turkey(x[1::2])\n",
    "\n",
    "        dodatek = np.exp(-2j * np.pi * np.arange(n) / n)\n",
    "        return np.concatenate( [x_1 + dodatek[:n//2] * x_2, x_1 + dodatek[n//2:] * x_2] )"
   ],
   "metadata": {
    "collapsed": false,
    "pycharm": {
     "name": "#%%\n"
    }
   }
  },
  {
   "cell_type": "code",
   "execution_count": 76,
   "outputs": [
    {
     "name": "stdout",
     "output_type": "stream",
     "text": [
      "[ 79.   +0.j    -6.86-16.92j -17.07+17.97j  19.38 +8.6j   -1.  -16.j\n",
      " -22.8  +5.18j  -2.93+15.97j   6.28-16.34j -29.   -0.j     6.28+16.34j\n",
      "  -2.93-15.97j -22.8  -5.18j  -1.  +16.j    19.38 -8.6j  -17.07-17.97j\n",
      "  -6.86+16.92j]\n",
      "[ 79.   +0.j    -6.86-16.92j -17.07+17.97j  19.38 +8.6j   -1.  -16.j\n",
      " -22.8  +5.18j  -2.93+15.97j   6.28-16.34j -29.   +0.j     6.28+16.34j\n",
      "  -2.93-15.97j -22.8  -5.18j  -1.  +16.j    19.38 -8.6j  -17.07-17.97j\n",
      "  -6.86+16.92j]\n"
     ]
    }
   ],
   "source": [
    "wektor_x_2 = np.array([0,5,3,2,6,23,3,6,1,4,3,4,5,3,4,7])\n",
    "print(Cooley_Turkey(wektor_x_2))\n",
    "print(fft(wektor_x_2))"
   ],
   "metadata": {
    "collapsed": false,
    "pycharm": {
     "name": "#%%\n"
    }
   }
  },
  {
   "cell_type": "code",
   "execution_count": 77,
   "outputs": [
    {
     "name": "stderr",
     "output_type": "stream",
     "text": [
      "<ipython-input-77-bfd89bb92464>:34: UserWarning: Matplotlib is currently using module://ipykernel.pylab.backend_inline, which is a non-GUI backend, so cannot show the figure.\n",
      "  fig1.show()\n"
     ]
    },
    {
     "data": {
      "text/plain": "<Figure size 432x288 with 1 Axes>",
      "image/png": "[encoded data removed]"
     },
     "metadata": {
      "needs_background": "light"
     },
     "output_type": "display_data"
    }
   ],
   "source": [
    "wielkosci_wektorow = np.array([1,2,4,8,16,32,64,128,256,512,1024,2048,4096,8192])\n",
    "wektory = []\n",
    "\n",
    "for wielkosc_wektora in wielkosci_wektorow:\n",
    "    wektory.append( np.random.random(wielkosc_wektora) )\n",
    "\n",
    "czasy_CooleyaTurkeya = []\n",
    "czasy_biblioteczne = []\n",
    "czasy_DFT = []\n",
    "\n",
    "for wektor in wektory:\n",
    "    start = time.process_time()\n",
    "    Cooley_Turkey(wektor)\n",
    "    czasy_CooleyaTurkeya.append( time.process_time() - start )\n",
    "\n",
    "    start = time.process_time()\n",
    "    fft(wektor)\n",
    "    czasy_biblioteczne.append( time.process_time() - start )\n",
    "\n",
    "    start = time.process_time()\n",
    "    DFT(wektor)\n",
    "    czasy_DFT.append( time.process_time() - start )\n",
    "\n",
    "\n",
    "fig1, ax1 = plt.subplots()\n",
    "ax1.set_title(\"Porównanie czasu wykonania algorytmów\")\n",
    "ax1.set_xlabel(\"Wielkość wektora x\")\n",
    "ax1.set_ylabel(\"Czas [seconds]\")\n",
    "\n",
    "ax1.plot(wielkosci_wektorow, czasy_biblioteczne, label=\"biblioteczne\")\n",
    "ax1.plot(wielkosci_wektorow, czasy_CooleyaTurkeya, label=\"CooleyaTurkeya\")\n",
    "ax1.plot(wielkosci_wektorow, czasy_DFT, label=\"DFT\")\n",
    "ax1.legend()\n",
    "fig1.show()"
   ],
   "metadata": {
    "collapsed": false,
    "pycharm": {
     "name": "#%%\n"
    }
   }
  },
  {
   "cell_type": "markdown",
   "source": [
    "Jak widać wyżej, implementacja Cooleya-Turkeya jest dużo lepsza, od DFT.\n",
    "Funkcja zaimplementowana przeze mnie ma praktycznie tą samą złożoność, co biblioteczna."
   ],
   "metadata": {
    "collapsed": false,
    "pycharm": {
     "name": "#%% md\n"
    }
   }
  },
  {
   "cell_type": "markdown",
   "source": [
    "### Zadanie 2 DFT w 1D"
   ],
   "metadata": {
    "collapsed": false,
    "pycharm": {
     "name": "#%% md\n"
    }
   }
  },
  {
   "cell_type": "markdown",
   "source": [
    " - Wygeneruj dwa sygnały czasowo-amplitudowe:\n",
    "  - Sygnał będący sumą pięciu sygnałów sinusoidalnych o różnych częstotliwościach\n",
    "  - Sygnał złożony z pięciu sygnałów o tych samych częstotliwościach co w punkcie wyżej, ale ułożonych przedziałami, tzn. w każdym z pięciu przedziałów o tej samej szerokości występuje sygnał o jednej częstotliwości"
   ],
   "metadata": {
    "collapsed": false,
    "pycharm": {
     "name": "#%% md\n"
    }
   }
  },
  {
   "cell_type": "markdown",
   "source": [
    "sygnal_A = "
   ],
   "metadata": {
    "collapsed": false,
    "pycharm": {
     "name": "#%% md\n"
    }
   }
  }
 ],
 "metadata": {
  "kernelspec": {
   "display_name": "Python 3",
   "language": "python",
   "name": "python3"
  },
  "language_info": {
   "codemirror_mode": {
    "name": "ipython",
    "version": 2
   },
   "file_extension": ".py",
   "mimetype": "text/x-python",
   "name": "python",
   "nbconvert_exporter": "python",
   "pygments_lexer": "ipython2",
   "version": "2.7.6"
  }
 },
 "nbformat": 4,
 "nbformat_minor": 0
}