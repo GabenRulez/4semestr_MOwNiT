{
 "cells": [
  {
   "cell_type": "markdown",
   "metadata": {
    "collapsed": true,
    "pycharm": {
     "name": "#%% md\n"
    }
   },
   "source": [
    "# Laboratorium 10 - Dyskretna Transformacja Fouriera (Wojciech Kosztyła)"
   ]
  },
  {
   "cell_type": "code",
   "execution_count": 33,
   "outputs": [],
   "source": [
    "import numpy as np\n",
    "from numpy.fft import fft, ifft\n",
    "import matplotlib.pyplot as plt\n",
    "from scipy.linalg import dft\n",
    "\n",
    "np.set_printoptions(precision=2, suppress=True)"
   ],
   "metadata": {
    "collapsed": false,
    "pycharm": {
     "name": "#%%\n"
    }
   }
  },
  {
   "cell_type": "markdown",
   "source": [
    "### Zadanie 1 FFT"
   ],
   "metadata": {
    "collapsed": false,
    "pycharm": {
     "name": "#%% md\n"
    }
   }
  },
  {
   "cell_type": "markdown",
   "source": [
    "1. Zaimplementuj funkcję realizującą DFT jako iloczyn macierzy Fouriera $F_{n}$ i n-elementowego wektora wejściowego ($y = F_{n}x$).\n",
    "\n",
    "$n = 2^{r}$\n",
    "\n",
    "$[F_{n}]_{jk} = ξ^{jk}$\n",
    "\n",
    "$ξ = e^{\\frac{-2\\pi i}{n}} = \\cos(\\frac{2\\pi}{n}) - i\\sin(\\frac{2\\pi}{n}) = \\omega$"
   ],
   "metadata": {
    "collapsed": false,
    "pycharm": {
     "name": "#%% md\n"
    }
   }
  },
  {
   "cell_type": "code",
   "execution_count": 34,
   "outputs": [],
   "source": [
    "def DFT(x):\n",
    "    n = x.shape[0]\n",
    "    F = np.array( [ [np.exp(-2 * np.pi * 1j * j * k/n) for j in range(n) ] for k in range(n)], dtype=np.complex_)\n",
    "    return F@x"
   ],
   "metadata": {
    "collapsed": false,
    "pycharm": {
     "name": "#%%\n"
    }
   }
  },
  {
   "cell_type": "markdown",
   "source": [
    "2. Zaimplementuj również IDFT korzystając z tożsamości:\n",
    "\n",
    "$F_{n}^{-1}y = \\frac{\\overline{F}_{n}y}{n} = \\frac{\\overline{F_{n}\\overline{y}}}{n}$\n",
    "\n",
    "Sprawdź poprawność działania funkcji realizującej DFT stosując transformację odwrotną ($x = F_{n}^{-1}y$) oraz porównując uzyskane wyniki z wyjściem funkcji bibliotecznej."
   ],
   "metadata": {
    "collapsed": false,
    "pycharm": {
     "name": "#%% md\n"
    }
   }
  },
  {
   "cell_type": "code",
   "execution_count": 35,
   "outputs": [],
   "source": [
    "def IDFT(y):\n",
    "    n = y.shape[0]\n",
    "    F = np.array( [ [np.exp(-2 * np.pi * 1j * j * k/n) for j in range(n) ] for k in range(n)], dtype=np.complex_)\n",
    "    return ( F@y.conj() ).conj()/n"
   ],
   "metadata": {
    "collapsed": false,
    "pycharm": {
     "name": "#%%\n"
    }
   }
  },
  {
   "cell_type": "code",
   "execution_count": 36,
   "outputs": [
    {
     "name": "stdout",
     "output_type": "stream",
     "text": [
      "Wektor x:  [1 2 8 0 4]\n",
      " \n",
      "DFT: Wynik mojej funkcji:           [15.  +0.j   -3.62-2.8j  -1.38+8.78j -1.38-8.78j -3.62+2.8j ]\n",
      "DFT: Wynik funkcji bibliotecznej:   [15.  +0.j   -3.62-2.8j  -1.38+8.78j -1.38-8.78j -3.62+2.8j ]\n",
      " \n",
      "IDFT: Wynik mojej funkcji:          [ 3.  -0.j   -0.72+0.56j -0.28-1.76j -0.28+1.76j -0.72-0.56j]\n",
      "IDFT: Wynik funkcji bibliotecznej:  [ 3.  +0.j   -0.72+0.56j -0.28-1.76j -0.28+1.76j -0.72-0.56j]\n",
      " \n",
      "IDFT + DFT: Wynik mojej funkcji:          [ 1.-0.j  2.-0.j  8.-0.j -0.+0.j  4.+0.j]\n",
      "IDFT + DFT: Wynik funkcji bibliotecznej:  [1.+0.j 2.+0.j 8.+0.j 0.+0.j 4.+0.j]\n",
      " \n"
     ]
    }
   ],
   "source": [
    "wektor_x = np.array([1,2,8,0,4])\n",
    "print(\"Wektor x: \", wektor_x)\n",
    "print(\" \")\n",
    "print(\"DFT: Wynik mojej funkcji:          \", DFT(wektor_x))\n",
    "print(\"DFT: Wynik funkcji bibliotecznej:  \", fft(wektor_x))\n",
    "print(\" \")\n",
    "print(\"IDFT: Wynik mojej funkcji:         \", IDFT(wektor_x))\n",
    "print(\"IDFT: Wynik funkcji bibliotecznej: \", ifft(wektor_x))\n",
    "print(\" \")\n",
    "print(\"IDFT + DFT: Wynik mojej funkcji:         \", IDFT(DFT(wektor_x)))\n",
    "print(\"IDFT + DFT: Wynik funkcji bibliotecznej: \", ifft(fft(wektor_x)))\n",
    "print(\" \")"
   ],
   "metadata": {
    "collapsed": false,
    "pycharm": {
     "name": "#%%\n"
    }
   }
  },
  {
   "cell_type": "markdown",
   "source": [
    "Jak widać, moje funkcje i funkcje biblioteczne zwracają praktycznie takie same wyniki."
   ],
   "metadata": {
    "collapsed": false,
    "pycharm": {
     "name": "#%% md\n"
    }
   }
  },
  {
   "cell_type": "markdown",
   "source": [
    "3. Zaimplementuj rekurencyjny algorytm Cooleya-Turkeya realizujący szybką transformację Fouriera (FFT). Porównaj szybkość jego działania z implementacją biblioteczną oraz implementacją z mnożeniem wektora przez macierz $F_{n}$ dla danych o różnym rozmiarze."
   ],
   "metadata": {
    "collapsed": false,
    "pycharm": {
     "name": "#%% md\n"
    }
   }
  },
  {
   "cell_type": "code",
   "execution_count": null,
   "outputs": [],
   "source": [],
   "metadata": {
    "collapsed": false,
    "pycharm": {
     "name": "#%%\n"
    }
   }
  }
 ],
 "metadata": {
  "kernelspec": {
   "display_name": "Python 3",
   "language": "python",
   "name": "python3"
  },
  "language_info": {
   "codemirror_mode": {
    "name": "ipython",
    "version": 2
   },
   "file_extension": ".py",
   "mimetype": "text/x-python",
   "name": "python",
   "nbconvert_exporter": "python",
   "pygments_lexer": "ipython2",
   "version": "2.7.6"
  }
 },
 "nbformat": 4,
 "nbformat_minor": 0
}