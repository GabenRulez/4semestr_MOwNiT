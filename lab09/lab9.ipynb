{
 "cells": [
  {
   "cell_type": "markdown",
   "metadata": {
    "collapsed": true,
    "pycharm": {
     "name": "#%% md\n"
    }
   },
   "source": [
    "### Sprawozdanie - Faktoryzacja QR\n",
    "<div style=\"text-align: right\"> Wojciech Kosztyła </div>"
   ]
  },
  {
   "cell_type": "code",
   "execution_count": 24,
   "outputs": [],
   "source": [
    "import numpy as np\n",
    "from matplotlib import pyplot as plt"
   ],
   "metadata": {
    "collapsed": false,
    "pycharm": {
     "name": "#%%\n"
    }
   }
  },
  {
   "cell_type": "markdown",
   "source": [
    "#### Zadanie 1\n",
    "\n",
    "Napisz funkcję dokonującą faktoryzacji $QR$ macierzy $A \\epsilon R^{nxn}$, $A = [a_{1}, a_{2},...,a_{n}]$\n",
    "\n",
    "($a_{i}$ to kolejne kolumny macierzy $A$) klasyczną metodą ortogonalizacji Grama-Schmidta:\n",
    "\n",
    "Dla $k = 1$:\n",
    "\n",
    "$u_{1} ←\\frac{a_{1}}{||a_{1}||}$\n",
    "\n",
    "\n",
    "Dla $k > 1$:\n",
    "\n",
    "$u_{k} ←a_{k} − \\sum_{i=1}^{k-1}[u_{i},a_{k}]u_{i}$\n",
    "\n",
    "$u_{k} ← \\frac{u_{k}}{||u_{k}||}$"
   ],
   "metadata": {
    "collapsed": false,
    "pycharm": {
     "name": "#%% md\n"
    }
   }
  },
  {
   "cell_type": "code",
   "execution_count": 25,
   "outputs": [],
   "source": [
    "def norma_z_wektora(wektor):\n",
    "    wynik = 0\n",
    "    for wartosc in wektor:\n",
    "        wynik += wartosc ** 2\n",
    "    return np.sqrt(wynik)"
   ],
   "metadata": {
    "collapsed": false,
    "pycharm": {
     "name": "#%%\n"
    }
   }
  },
  {
   "cell_type": "code",
   "execution_count": 26,
   "outputs": [],
   "source": [
    "def wylicz_Q(A):\n",
    "    n = len(A)\n",
    "    wektory_U = np.zeros((n,n))\n",
    "\n",
    "    for k in range(n):\n",
    "        if k==0:\n",
    "            wektory_U[:,k] = A[:,k] / norma_z_wektora(A[:,k])\n",
    "        else:\n",
    "            temp = np.zeros(n, dtype=float)\n",
    "            for j in range(k):\n",
    "                temp += np.dot(wektory_U[:,j], A[:,k]) * wektory_U[:,j]\n",
    "            u_k = A[:,k] - temp\n",
    "            wektory_U[:,k] = u_k / norma_z_wektora(u_k)\n",
    "\n",
    "    return wektory_U"
   ],
   "metadata": {
    "collapsed": false,
    "pycharm": {
     "name": "#%%\n"
    }
   }
  },
  {
   "cell_type": "markdown",
   "source": [
    "Postanowiłem nie tworzyć oddzielnej funkcji do wyliczania pojedynczego wektora $u_{i}$, gdyż korzystają one z wartości wczesniej obliczonych."
   ],
   "metadata": {
    "collapsed": false
   }
  },
  {
   "cell_type": "code",
   "execution_count": 27,
   "outputs": [],
   "source": [
    "def faktoryzacja_QR(A):\n",
    "    n = len(A)\n",
    "    Q = wylicz_Q(A)\n",
    "    R = np.zeros((n,n), dtype=float)\n",
    "    for i in range(n):\n",
    "        for j in range(i+1):\n",
    "            R[j][i] = np.dot(Q[:,j], A[:,i])\n",
    "    return Q,R"
   ],
   "metadata": {
    "collapsed": false,
    "pycharm": {
     "name": "#%%\n"
    }
   }
  },
  {
   "cell_type": "markdown",
   "source": [
    "Przy testowaniu działania, stworzyłem macierz ręcznie, 1,2,3,...\n",
    "Napotkałem problem - moje wartości nie zgadzały się z bibliotecznymi.\n",
    "\n",
    "Po paru godzinach szukania i refaktoringu kodu znalazłem, że ta macierz ma ogromny wskaźnik uwarunkowania (rzędu 10^16).\n",
    "\n",
    "Funkcja biblioteczna korzysta w takich wypadkach z innego algorytmu.\n",
    "\n",
    "Przy używaniu macierzy losowych taka sytuacja nie miała miejsca."
   ],
   "metadata": {
    "collapsed": false,
    "pycharm": {
     "name": "#%% md\n"
    }
   }
  },
  {
   "cell_type": "code",
   "source": [
    "macierz_1 = np.array([[1,   2,  3],\n",
    "                      [4,   5,  6],\n",
    "                      [7,   8,  9]])\n",
    "\n",
    "svd = np.linalg.svd(macierz_1)\n",
    "print(svd[1][0] / svd[1][2])\n"
   ],
   "metadata": {
    "collapsed": false,
    "pycharm": {
     "name": "#%%\n"
    }
   },
   "execution_count": 28,
   "outputs": [
    {
     "name": "stdout",
     "output_type": "stream",
     "text": [
      "3.8131470606269176e+16\n"
     ]
    }
   ]
  },
  {
   "cell_type": "code",
   "execution_count": 29,
   "outputs": [
    {
     "name": "stdout",
     "output_type": "stream",
     "text": [
      "Moja implementacja\n",
      "\n",
      "Q:\n",
      "[[ 0.12309149  0.35805744  0.9255503 ]\n",
      " [ 0.49236596  0.78772636 -0.37022012]\n",
      " [ 0.86164044 -0.50128041  0.07933288]]\n",
      "\n",
      "R:\n",
      "[[ 8.1240384   2.7080128  11.07823419]\n",
      " [ 0.          4.65474668  1.28900677]\n",
      " [ 0.          0.          1.26932612]]\n",
      "\n",
      "QxR:\n",
      "[[ 1.00000000e+00  2.00000000e+00  3.00000000e+00]\n",
      " [ 4.00000000e+00  5.00000000e+00  6.00000000e+00]\n",
      " [ 7.00000000e+00 -1.35005032e-16  9.00000000e+00]]\n",
      "\n",
      "\n",
      "\n",
      "Biblioteczne\n",
      "\n",
      "Q:\n",
      "[[-0.12309149 -0.35805744 -0.9255503 ]\n",
      " [-0.49236596 -0.78772636  0.37022012]\n",
      " [-0.86164044  0.50128041 -0.07933288]]\n",
      "\n",
      "R:\n",
      "[[ -8.1240384   -2.7080128  -11.07823419]\n",
      " [  0.          -4.65474668  -1.28900677]\n",
      " [  0.           0.          -1.26932612]]\n",
      "\n",
      "QxR:\n",
      "[[1.0000000e+00 2.0000000e+00 3.0000000e+00]\n",
      " [4.0000000e+00 5.0000000e+00 6.0000000e+00]\n",
      " [7.0000000e+00 1.1972626e-15 9.0000000e+00]]\n"
     ]
    }
   ],
   "source": [
    "macierz_1 = np.array([[1,   2,  3],\n",
    "                      [4,   5,  6],\n",
    "                      [7,   0,  9]])\n",
    "\n",
    "q1a,r1a = faktoryzacja_QR(macierz_1)\n",
    "q1b,r1b = np.linalg.qr(macierz_1)\n",
    "\n",
    "print(\"Moja implementacja\")\n",
    "print(\"\\nQ:\")\n",
    "print(q1a)\n",
    "print(\"\\nR:\")\n",
    "print(r1a)\n",
    "print(\"\\nQxR:\")\n",
    "print(np.dot(q1a, r1a))\n",
    "print(\"\\n\\n\")\n",
    "print(\"Biblioteczne\")\n",
    "print(\"\\nQ:\")\n",
    "print(q1b)\n",
    "print(\"\\nR:\")\n",
    "print(r1b)\n",
    "print(\"\\nQxR:\")\n",
    "print(np.dot(q1b, r1b))"
   ],
   "metadata": {
    "collapsed": false,
    "pycharm": {
     "name": "#%%\n"
    }
   }
  },
  {
   "cell_type": "markdown",
   "source": [
    "Jak widać różnice między moją implementacją a funkcją biblioteczną są znikome. Różnica w znakach Q i R nie zmienia faktu, że moja implementacja jest poprawna - w końcu $(-) * (-) = (+)$."
   ],
   "metadata": {
    "collapsed": false,
    "pycharm": {
     "name": "#%% md\n"
    }
   }
  },
  {
   "cell_type": "code",
   "execution_count": 30,
   "outputs": [
    {
     "name": "stdout",
     "output_type": "stream",
     "text": [
      "Moja implementacja\n",
      "\n",
      "Q:\n",
      "[[ 0.69224971 -0.24027971 -0.49257621 -0.46949407]\n",
      " [ 0.41358204 -0.52205127  0.1370119   0.73323946]\n",
      " [ 0.41200598  0.09020207  0.8459773  -0.32624693]\n",
      " [ 0.42425382  0.81338289 -0.15138964  0.36810074]]\n",
      "R:\n",
      "[[ 1.27642981  0.88035062  1.49352566  0.7693726 ]\n",
      " [ 0.          0.64788351 -0.38686487 -0.1904964 ]\n",
      " [ 0.          0.          0.3814423   0.5511775 ]\n",
      " [ 0.          0.          0.          0.06446108]]\n",
      "QxR:\n",
      "[[0.88360817 0.4537492  0.93895909 0.27660936]\n",
      " [0.52790845 0.0258688  0.87192082 0.54043085]\n",
      " [0.52589672 0.42115016 0.90313703 0.74505637]\n",
      " [0.54153022 0.90046947 0.26121829 0.11174836]]\n",
      "\n",
      "\n",
      "Bibliotecznie\n",
      "\n",
      "Q:\n",
      "[[-0.69224971 -0.24027971  0.49257621 -0.46949407]\n",
      " [-0.41358204 -0.52205127 -0.1370119   0.73323946]\n",
      " [-0.41200598  0.09020207 -0.8459773  -0.32624693]\n",
      " [-0.42425382  0.81338289  0.15138964  0.36810074]]\n",
      "R:\n",
      "[[-1.27642981 -0.88035062 -1.49352566 -0.7693726 ]\n",
      " [ 0.          0.64788351 -0.38686487 -0.1904964 ]\n",
      " [ 0.          0.         -0.3814423  -0.5511775 ]\n",
      " [ 0.          0.          0.          0.06446108]]\n",
      "QxR:\n",
      "[[0.88360817 0.4537492  0.93895909 0.27660936]\n",
      " [0.52790845 0.0258688  0.87192082 0.54043085]\n",
      " [0.52589672 0.42115016 0.90313703 0.74505637]\n",
      " [0.54153022 0.90046947 0.26121829 0.11174836]]\n",
      "\n",
      "\n",
      "Moja implementacja\n",
      "\n",
      "Q:\n",
      "[[ 0.92375141 -0.37042165 -0.01911911 -0.09542321]\n",
      " [ 0.12094242  0.06044084  0.5460713   0.82675629]\n",
      " [ 0.36217164  0.91020184 -0.20049388  0.01290425]\n",
      " [ 0.02979865  0.17512087  0.81316837 -0.554258  ]]\n",
      "R:\n",
      "[[ 1.01899355  0.52004698  0.67077167  0.63379524]\n",
      " [ 0.          0.74168835 -0.0427472   0.50357877]\n",
      " [ 0.          0.          0.79528421  0.29283065]\n",
      " [ 0.          0.          0.          0.45806287]]\n",
      "QxR:\n",
      "[[0.94129673 0.20565671 0.62025564 0.34962428]\n",
      " [0.12323955 0.10772401 0.51282296 0.64570223]\n",
      " [0.36905056 0.86343237 0.04457628 0.63510119]\n",
      " [0.03036463 0.14538181 0.65920212 0.09130901]]\n",
      "\n",
      "\n",
      "Bibliotecznie\n",
      "\n",
      "Q:\n",
      "[[-0.92375141  0.37042165 -0.01911911  0.09542321]\n",
      " [-0.12094242 -0.06044084  0.5460713  -0.82675629]\n",
      " [-0.36217164 -0.91020184 -0.20049388 -0.01290425]\n",
      " [-0.02979865 -0.17512087  0.81316837  0.554258  ]]\n",
      "R:\n",
      "[[-1.01899355 -0.52004698 -0.67077167 -0.63379524]\n",
      " [ 0.         -0.74168835  0.0427472  -0.50357877]\n",
      " [ 0.          0.          0.79528421  0.29283065]\n",
      " [ 0.          0.          0.         -0.45806287]]\n",
      "QxR:\n",
      "[[0.94129673 0.20565671 0.62025564 0.34962428]\n",
      " [0.12323955 0.10772401 0.51282296 0.64570223]\n",
      " [0.36905056 0.86343237 0.04457628 0.63510119]\n",
      " [0.03036463 0.14538181 0.65920212 0.09130901]]\n",
      "\n",
      "\n",
      "Moja implementacja\n",
      "\n",
      "Q:\n",
      "[[ 0.18276333  0.59423068 -0.30597128  0.56831179 -0.44372373]\n",
      " [ 0.57886532 -0.17151137  0.63245153  0.45829185  0.15960087]\n",
      " [ 0.34211626  0.7026299   0.1870138  -0.52495888  0.28055605]\n",
      " [ 0.41104499 -0.24120498  0.06689578 -0.43718098 -0.75977623]\n",
      " [ 0.58780182 -0.25613499 -0.6833282  -0.01677061  0.34880539]]\n",
      "R:\n",
      "[[ 1.6251955   1.24373488  0.94588605  1.35167256  0.89229919]\n",
      " [ 0.          0.41903316  0.41486117  0.71381337  0.42414931]\n",
      " [ 0.          0.          0.54589215  0.00242335  0.21219226]\n",
      " [ 0.          0.          0.          0.38839221 -0.00385732]\n",
      " [ 0.          0.          0.          0.          0.2342371 ]]\n",
      "QxR:\n",
      "[[0.29702615 0.47631149 0.2523692  0.89119238 0.24406865]\n",
      " [0.94076932 0.64808604 0.82163755 0.8395389  0.61359262]\n",
      " [0.55600581 0.71992716 0.71718623 0.76053904 0.7107145 ]\n",
      " [0.66802846 0.4101581  0.32525302 0.21378732 0.10238151]\n",
      " [0.95529288 0.62374058 0.07670958 0.6035135  0.35262651]]\n",
      "\n",
      "\n",
      "Bibliotecznie\n",
      "\n",
      "Q:\n",
      "[[-0.18276333  0.59423068  0.30597128  0.56831179 -0.44372373]\n",
      " [-0.57886532 -0.17151137 -0.63245153  0.45829185  0.15960087]\n",
      " [-0.34211626  0.7026299  -0.1870138  -0.52495888  0.28055605]\n",
      " [-0.41104499 -0.24120498 -0.06689578 -0.43718098 -0.75977623]\n",
      " [-0.58780182 -0.25613499  0.6833282  -0.01677061  0.34880539]]\n",
      "R:\n",
      "[[-1.6251955  -1.24373488 -0.94588605 -1.35167256 -0.89229919]\n",
      " [ 0.          0.41903316  0.41486117  0.71381337  0.42414931]\n",
      " [ 0.          0.         -0.54589215 -0.00242335 -0.21219226]\n",
      " [ 0.          0.          0.          0.38839221 -0.00385732]\n",
      " [ 0.          0.          0.          0.          0.2342371 ]]\n",
      "QxR:\n",
      "[[0.29702615 0.47631149 0.2523692  0.89119238 0.24406865]\n",
      " [0.94076932 0.64808604 0.82163755 0.8395389  0.61359262]\n",
      " [0.55600581 0.71992716 0.71718623 0.76053904 0.7107145 ]\n",
      " [0.66802846 0.4101581  0.32525302 0.21378732 0.10238151]\n",
      " [0.95529288 0.62374058 0.07670958 0.6035135  0.35262651]]\n",
      "\n",
      "\n",
      "Moja implementacja\n",
      "\n",
      "Q:\n",
      "[[ 0.51973383  0.10730465  0.48595088 -0.59684246 -0.35495531]\n",
      " [ 0.29299057  0.46935914  0.12349822  0.69915989 -0.43563995]\n",
      " [ 0.36158941  0.52893889  0.01753094 -0.03185531  0.76691241]\n",
      " [ 0.47008749 -0.68993167  0.30379     0.37631324  0.26289167]\n",
      " [ 0.54065157 -0.11138064 -0.80994088 -0.11103202 -0.16418858]]\n",
      "R:\n",
      "[[ 1.81922006  1.34642134  0.77749307  1.71138092  1.69113639]\n",
      " [ 0.          0.760018   -0.42417084  0.20005381 -0.12741404]\n",
      " [ 0.          0.          0.41213361  0.20056816 -0.071091  ]\n",
      " [ 0.          0.          0.          0.33101565 -0.16524147]\n",
      " [ 0.          0.          0.          0.          0.24165577]]\n",
      "QxR:\n",
      "[[0.94551021 0.78133419 0.55885064 0.81083135 0.84356807]\n",
      " [0.53301432 0.75121015 0.07960744 0.85151823 0.20609933]\n",
      " [0.65781071 0.88885478 0.0639979  0.71760501 0.7334491 ]\n",
      " [0.85519259 0.10857534 0.78334073 0.85197147 0.86263904]\n",
      " [0.98356419 0.64329352 0.13379341 0.70377698 0.96475649]]\n",
      "\n",
      "\n",
      "Bibliotecznie\n",
      "\n",
      "Q:\n",
      "[[-0.51973383 -0.10730465  0.48595088  0.59684246  0.35495531]\n",
      " [-0.29299057 -0.46935914  0.12349822 -0.69915989  0.43563995]\n",
      " [-0.36158941 -0.52893889  0.01753094  0.03185531 -0.76691241]\n",
      " [-0.47008749  0.68993167  0.30379    -0.37631324 -0.26289167]\n",
      " [-0.54065157  0.11138064 -0.80994088  0.11103202  0.16418858]]\n",
      "R:\n",
      "[[-1.81922006 -1.34642134 -0.77749307 -1.71138092 -1.69113639]\n",
      " [ 0.         -0.760018    0.42417084 -0.20005381  0.12741404]\n",
      " [ 0.          0.          0.41213361  0.20056816 -0.071091  ]\n",
      " [ 0.          0.          0.         -0.33101565  0.16524147]\n",
      " [ 0.          0.          0.          0.         -0.24165577]]\n",
      "QxR:\n",
      "[[0.94551021 0.78133419 0.55885064 0.81083135 0.84356807]\n",
      " [0.53301432 0.75121015 0.07960744 0.85151823 0.20609933]\n",
      " [0.65781071 0.88885478 0.0639979  0.71760501 0.7334491 ]\n",
      " [0.85519259 0.10857534 0.78334073 0.85197147 0.86263904]\n",
      " [0.98356419 0.64329352 0.13379341 0.70377698 0.96475649]]\n",
      "\n",
      "\n",
      "Moja implementacja\n",
      "\n",
      "Q:\n",
      "[[ 0.51708812  0.81963447 -0.24661552]\n",
      " [ 0.66038424 -0.19873436  0.72415282]\n",
      " [ 0.54452963 -0.53731183 -0.64403686]]\n",
      "R:\n",
      "[[1.46271305 0.75256115 1.14129024]\n",
      " [0.         0.68655046 0.21451401]\n",
      " [0.         0.         0.26239364]]\n",
      "QxR:\n",
      "[[0.75635155 0.95186085 0.70126036]\n",
      " [0.96595265 0.36053837 0.90107188]\n",
      " [0.7964906  0.04090017 0.33721427]]\n",
      "\n",
      "\n",
      "Bibliotecznie\n",
      "\n",
      "Q:\n",
      "[[-0.51708812  0.81963447  0.24661552]\n",
      " [-0.66038424 -0.19873436 -0.72415282]\n",
      " [-0.54452963 -0.53731183  0.64403686]]\n",
      "R:\n",
      "[[-1.46271305 -0.75256115 -1.14129024]\n",
      " [ 0.          0.68655046  0.21451401]\n",
      " [ 0.          0.         -0.26239364]]\n",
      "QxR:\n",
      "[[0.75635155 0.95186085 0.70126036]\n",
      " [0.96595265 0.36053837 0.90107188]\n",
      " [0.7964906  0.04090017 0.33721427]]\n",
      "\n",
      "\n"
     ]
    }
   ],
   "source": [
    "def random_int(min_wielkosc, max_wielkosc):\n",
    "    return int(min_wielkosc + (max_wielkosc-min_wielkosc)*np.random.rand(1)[0])\n",
    "\n",
    "ilosc_testow = 5\n",
    "min_wielkosc = 3\n",
    "max_wielkosc = 7\n",
    "for i in range(ilosc_testow):\n",
    "    n = random_int(min_wielkosc, max_wielkosc)\n",
    "    temp_macierz = np.random.rand(n,n)\n",
    "\n",
    "    Q_moje, R_moje = faktoryzacja_QR(temp_macierz)\n",
    "    Q_bibl, R_bibl = np.linalg.qr(temp_macierz)\n",
    "\n",
    "    print(\"Moja implementacja\")\n",
    "    print(\"\\nQ:\\n{}\\nR:\\n{}\\nQxR:\\n{}\\n\\n\".format(Q_moje, R_moje, np.dot(Q_moje, R_moje)))\n",
    "    print(\"Bibliotecznie\")\n",
    "    print(\"\\nQ:\\n{}\\nR:\\n{}\\nQxR:\\n{}\\n\\n\".format(Q_bibl, R_bibl, np.dot(Q_bibl, R_bibl)))"
   ],
   "metadata": {
    "collapsed": false,
    "pycharm": {
     "name": "#%%\n"
    }
   }
  },
  {
   "cell_type": "markdown",
   "source": [
    "We wszystkich testach różnica pomiędzy moją implementacją a funkcjami bibliotecznymi jest bardzo znikoma."
   ],
   "metadata": {
    "collapsed": false
   }
  },
  {
   "cell_type": "markdown",
   "source": [
    "Wygeneruj 30-50 przykładowych macierzy $8×8$ o różnym wskaźniku uwarunkowania $cond(A_{i})$ (stosunek największej do najmniejszej wartości osobliwej). Wykorzystaj w tym celu SVD oraz biblioteczną funkcję realizującą dekompozycję QR (potrzebne będą dwie losowe macierze ortogonalne oraz diagonalna macierz odpowiednio szybko malejących wartości osobliwych)."
   ],
   "metadata": {
    "collapsed": false
   }
  },
  {
   "cell_type": "code",
   "execution_count": 31,
   "outputs": [],
   "source": [
    "def stworz_macierz_condA(condA, n):\n",
    "    temp_macierz = np.random.rand(n,n)\n",
    "    u, s, vh = np.linalg.svd(temp_macierz)      # s ustawione malejąco\n",
    "\n",
    "    s[0] = condA * s[n-1]\n",
    "    low = s[n-1]\n",
    "    high = s[0]\n",
    "    for i in range(1, n-1):\n",
    "        s[i] = np.random.uniform(low, high)\n",
    "\n",
    "    macierz_diagonalna = np.diag(s)\n",
    "    return np.dot(np.dot(u, macierz_diagonalna), vh)\n",
    "\n"
   ],
   "metadata": {
    "collapsed": false,
    "pycharm": {
     "name": "#%%\n"
    }
   }
  },
  {
   "cell_type": "markdown",
   "source": [
    " Dla każdej z uzyskanych w ten sposób macierzy $A_{i}$\n",
    " wyznacz faktoryzację QR korzystając z zaimplementowanej funkcji ($A_{i} = Q_{i}R_{i}$).\n",
    " Przedstaw zależność $||I−Q^{T}_{i}Q_{i}||$ od $cond(A_{i})$.\n"
   ],
   "metadata": {
    "collapsed": false,
    "pycharm": {
     "name": "#%% md\n"
    }
   }
  },
  {
   "cell_type": "code",
   "execution_count": 32,
   "outputs": [
    {
     "data": {
      "text/plain": "[<matplotlib.lines.Line2D at 0x1b69e383c40>]"
     },
     "execution_count": 32,
     "metadata": {},
     "output_type": "execute_result"
    },
    {
     "data": {
      "text/plain": "<Figure size 432x288 with 1 Axes>",
      "image/png": "[encoded data removed]"
     },
     "metadata": {
      "needs_background": "light"
     },
     "output_type": "display_data"
    }
   ],
   "source": [
    "ile_macierzy = 50\n",
    "macierze = []\n",
    "wartosci_condA = []\n",
    "roznice = []        # I - Qtrans*Q\n",
    "for i in range(ile_macierzy):\n",
    "    wartosc_condA = random_int(10, 10000)\n",
    "    while(wartosc_condA in wartosci_condA):\n",
    "        wartosc_condA = random_int(10, 10000)\n",
    "\n",
    "    wartosci_condA.append(wartosc_condA)\n",
    "    macierz = stworz_macierz_condA(wartosc_condA, 8)\n",
    "    macierze.append(macierz)\n",
    "\n",
    "    Q, R = faktoryzacja_QR(macierz)\n",
    "\n",
    "    I = np.identity(len(Q))\n",
    "\n",
    "    roznica = np.linalg.norm(I - np.dot(Q.transpose(), Q))\n",
    "    roznice.append(roznica)\n",
    "\n",
    "\n",
    "fig1, ax1 = plt.subplots()\n",
    "ax1.set_title(\"Rożnica\")\n",
    "ax1.set_xlabel(\"Wartość condA\")\n",
    "ax1.set_ylabel(\"Wartość różnicy [0,1]\")\n",
    "\n",
    "plt.plot(wartosci_condA, roznice, 'o')\n"
   ],
   "metadata": {
    "collapsed": false,
    "pycharm": {
     "name": "#%%\n"
    }
   }
  },
  {
   "cell_type": "markdown",
   "source": [
    "Rozbieżność jest wynikiem błędu reprezentacji numerycznej danych wejściowych.\n",
    "\n",
    "Błąd zostaje bardzo bliski 0 dla różnych wartości $condA$ ($<1e-11$), a sądzę że rzadkie \"wyskoki\" spowodowane są błędem przy obliczaniu samego błędu."
   ],
   "metadata": {
    "collapsed": false
   }
  },
  {
   "cell_type": "markdown",
   "source": [
    "#### Zadanie 2\n",
    "\n",
    "Napisz funkcję rozwiązującą nadokreślony układ równań liniowych metodą $QR$ korzystając z własności macierzy ortogonalnych:\n",
    "$A^{T} = A^{−1}$, a także z mechanizmu $back substitution$. Następnie wykorzystaj ją do rozwiązania problemu aproksymacji średniokwadratowej dla zbioru punktów podanego tabeli poniżej. Przyjmij model postaci:\n",
    "$f(x) = α_{0} + α_{1}x + α_{2}x^{2}$\n",
    " Przedstaw wizualizację uzyskanego wyniku (punkty oraz funkcja aproksymująca f)."
   ],
   "metadata": {
    "collapsed": false
   }
  },
  {
   "cell_type": "code",
   "execution_count": 33,
   "outputs": [],
   "source": [
    "x = [-5, -4, -3, -2, -1, 0, 1, 2, 3, 4, 5]\n",
    "y = [2, 7, 9, 12, 13, 14, 14, 13, 10, 8, 4]\n",
    "\n",
    "def f(x, a0, a1, a2):\n",
    "    return a0 + a1* x + a2* x**2\n"
   ],
   "metadata": {
    "collapsed": false,
    "pycharm": {
     "name": "#%%\n"
    }
   }
  },
  {
   "cell_type": "markdown",
   "source": [
    "Otrzymałem funkcję w taki sposób:\n",
    "\n",
    "$ Ax = y $\n",
    "\n",
    "Rozkładam $A$ na $QR$\n",
    "\n",
    "$ QRx = y $\n",
    "\n",
    "Przemnażam razy $Q^{-1}$ z lewej strony\n",
    "\n",
    "\n",
    "$ Rx = Q^{-1}y $\n",
    "\n",
    "Z własności macierzy ortogonalnych $Q^{T} = Q^{−1}$\n",
    "\n",
    "$ Rx = Q^{T}y $\n"
   ],
   "metadata": {
    "collapsed": false
   }
  },
  {
   "cell_type": "code",
   "execution_count": 34,
   "outputs": [
    {
     "data": {
      "text/plain": "<matplotlib.legend.Legend at 0x1b69e00de20>"
     },
     "execution_count": 34,
     "metadata": {},
     "output_type": "execute_result"
    },
    {
     "data": {
      "text/plain": "<Figure size 432x288 with 1 Axes>",
      "image/png": "[encoded data removed]"
     },
     "metadata": {
      "needs_background": "light"
     },
     "output_type": "display_data"
    }
   ],
   "source": [
    "def backwardSubstitution(lewa, prawa):\n",
    "    y = []\n",
    "    for i in range(len(prawa)-1, -1, -1):\n",
    "        temp = prawa[i]\n",
    "        for j in range(len(prawa)-1, i, -1):\n",
    "            temp -= lewa[i][j] * y[j-i-1]\n",
    "        temp /= lewa[i][i]\n",
    "        y.insert(0, temp)\n",
    "    return y\n",
    "\n",
    "\n",
    "n = len(x)\n",
    "macierz_A = np.zeros((n, 3))\n",
    "\n",
    "for i in range(n):\n",
    "    for j in range(3):\n",
    "        macierz_A[i][j] = x[i] ** j\n",
    "\n",
    "Q, R = np.linalg.qr(macierz_A)\n",
    "wyniki = backwardSubstitution(R, np.dot(Q.transpose(), y))\n",
    "\n",
    "\n",
    "wartosci_x = np.linspace(-7, 7, 100)\n",
    "wartosci_y = []\n",
    "for i in wartosci_x:\n",
    "    wartosci_y.append( f(i, wyniki[0], wyniki[1], wyniki[2]) )\n",
    "\n",
    "fig1, ax1 = plt.subplots()\n",
    "ax1.set_title(\"Porównanie aproksymującej funkcji\")\n",
    "ax1.set_xlabel(\"Wartości x\")\n",
    "ax1.set_ylabel(\"Wartości y\")\n",
    "plt.scatter(x, y, label=\"Punkty wejściowe\")\n",
    "plt.plot(wartosci_x, wartosci_y, label=\"Funkcja aproksymująca\")\n",
    "ax1.legend()\n",
    "\n"
   ],
   "metadata": {
    "collapsed": false,
    "pycharm": {
     "name": "#%%\n"
    }
   }
  }
 ],
 "metadata": {
  "kernelspec": {
   "display_name": "Python 3",
   "language": "python",
   "name": "python3"
  },
  "language_info": {
   "codemirror_mode": {
    "name": "ipython",
    "version": 2
   },
   "file_extension": ".py",
   "mimetype": "text/x-python",
   "name": "python",
   "nbconvert_exporter": "python",
   "pygments_lexer": "ipython2",
   "version": "2.7.6"
  }
 },
 "nbformat": 4,
 "nbformat_minor": 0
}