{
 "cells": [
  {
   "cell_type": "markdown",
   "source": [
    "### Sprawozdanie - Generatory Liczb Losowych\n",
    "<div style=\"text-align: right\"> Wojciech Kosztyła </div>\n"
   ],
   "metadata": {
    "collapsed": false
   }
  },
  {
   "cell_type": "code",
   "execution_count": 1,
   "outputs": [],
   "source": [
    "import random\n",
    "import numpy as np\n",
    "import random\n",
    "import scipy as cp\n",
    "from math import *\n",
    "import matplotlib.pyplot as plt"
   ],
   "metadata": {
    "collapsed": false,
    "pycharm": {
     "name": "#%%\n"
    }
   }
  },
  {
   "cell_type": "markdown",
   "source": [
    "#### Zadanie 1 - Testowanie generatorów liczb losowych\n",
    "\n",
    "Dla obydwu generatorów liczb losowych (Mersenne Twister oraz PCG64) oraz dla $n=10,1000,5000$ wylosuj $n$ liczb losowych pochodzących z rozkładu jednostajnego i wykonaj następujące kroki.\n",
    "1. Zwizualizuj na wykresie rozkład liczb w 10 równych przedziałach.\n",
    "2. Sprawdź, dla ilu liczb spełniona jest nierówność $x_{i} < x_{i+1}$. Ile powinno ich być dla idealnego generatora?\n",
    "3. Zaimplementuj jeden z testów zdefiniowanych w rozdziale drugim artykułu [(link)](https://csrc.nist.gov/publications/detail/sp/800-22/rev-1a/final) i wykorzystaj go do sprawdzenia wylosowanego ciągu liczb.\n",
    "\n",
    "Czy widać różnice pomiędzy generatorami? Czy wraz z rosnącym $n$ coś się zmienia?"
   ],
   "metadata": {
    "collapsed": false
   }
  },
  {
   "cell_type": "markdown",
   "source": [
    "Zaimplementowalem tworzenie histogramu na te dwa sposoby.\n",
    "\n",
    "Wybrany przeze mnie test, to \"Frequency (Monobit) Test\", przy czym korzystam z przybliżenia wylosowanej liczby z zakresu [0,1) do bita."
   ],
   "metadata": {
    "collapsed": false,
    "pycharm": {
     "name": "#%% md\n"
    }
   }
  },
  {
   "cell_type": "code",
   "execution_count": 2,
   "outputs": [
    {
     "name": "stdout",
     "output_type": "stream",
     "text": [
      " MarsenneTwister:\n",
      " Wartości poszczególnych 'kolumn': [481, 494, 495, 480, 513, 449, 532, 519, 499, 538] \n",
      "\n",
      " MCG64:\n",
      " Wartości poszczególnych 'kolumn': [544, 470, 530, 474, 544, 498, 500, 479, 505, 456] \n",
      "\n"
     ]
    }
   ],
   "source": [
    "def histogram_MarsenneTwister(n, ilosc_przedzialow):\n",
    "    histogram = []\n",
    "    for _ in range(ilosc_przedzialow):\n",
    "        histogram.append(0)\n",
    "\n",
    "    for _ in range(n):\n",
    "        wylosowana_wartosc = random.uniform(0,1)\n",
    "\n",
    "        for i in range(ilosc_przedzialow):\n",
    "            if wylosowana_wartosc >= i/ilosc_przedzialow and wylosowana_wartosc < (i+1)/ilosc_przedzialow:\n",
    "                histogram[i] += 1\n",
    "                break\n",
    "\n",
    "    return histogram\n",
    "\n",
    "def histogram_MCG64(n, ilosc_przedzialow):\n",
    "    histogram = []\n",
    "    for _ in range(ilosc_przedzialow):\n",
    "        histogram.append(0)\n",
    "\n",
    "    for _ in range(n):\n",
    "        wylosowana_wartosc = np.random.uniform()\n",
    "\n",
    "        for i in range(ilosc_przedzialow):\n",
    "            if wylosowana_wartosc >= i/ilosc_przedzialow and wylosowana_wartosc < (i+1)/ilosc_przedzialow:\n",
    "                histogram[i] += 1\n",
    "                break\n",
    "\n",
    "    return histogram\n",
    "\n",
    "print(\" MarsenneTwister:\\n Wartości poszczególnych 'kolumn': {} \\n\".format(histogram_MarsenneTwister(5000, 10)))\n",
    "print(\" MCG64:\\n Wartości poszczególnych 'kolumn': {} \\n\".format(histogram_MCG64(5000, 10)))"
   ],
   "metadata": {
    "collapsed": false,
    "pycharm": {
     "name": "#%%\n"
    }
   }
  },
  {
   "cell_type": "markdown",
   "source": [
    "Ta wersja implementacji wykonywała pierwszą, a zarazem najistotniejszą część zadania - generowała histogram (jeszcze nie wizualnie) z losowych wartości.\n",
    "\n",
    "Jesteśmy też w stanie stwierdzić, czy jest to rzeczywiście rozkład jednostajny - na to wygląda, gdyż nie ma żadnych \"rzucających się w oczy\" \"górek\"."
   ],
   "metadata": {
    "collapsed": false,
    "pycharm": {
     "name": "#%% md\n"
    }
   }
  },
  {
   "cell_type": "markdown",
   "source": [
    "Następnie rozszerzyłem te implementacje o podpunkty 2.(zliczenie wystąpień nierówności) i 3.(implementacja jednego z testów)."
   ],
   "metadata": {
    "collapsed": false,
    "pycharm": {
     "name": "#%% md\n"
    }
   }
  },
  {
   "cell_type": "code",
   "execution_count": 3,
   "outputs": [
    {
     "name": "stdout",
     "output_type": "stream",
     "text": [
      " MarsenneTwister:\n",
      " Wartości poszczególnych 'kolumn': [503, 549, 477, 501, 511, 500, 499, 506, 457, 497] \n",
      " Ilosc prawd warunku 2) :2495 \t Wynik testu (jeśli >=0.01 to zbiór jest losowy): 0.2461892491250375\n",
      "\n",
      " MCG64:\n",
      " Wartości poszczególnych 'kolumn': [500, 491, 541, 520, 490, 511, 460, 500, 469, 518] \n",
      " Ilosc prawd warunku 2) :2504 \t Wynik testu (jeśli >=0.01 to zbiór jest losowy): 0.23485728854500548\n",
      "\n"
     ]
    }
   ],
   "source": [
    "def histogram_MarsenneTwister(n, ilosc_przedzialow):\n",
    "    histogram = []\n",
    "    for _ in range(ilosc_przedzialow):\n",
    "        histogram.append(0)\n",
    "\n",
    "    licznik_warunku = 0     # do podpunktu 2\n",
    "    ostatnia_wartosc = 1000\n",
    "\n",
    "    temp_suma = 0\n",
    "\n",
    "    for _ in range(n):\n",
    "        wylosowana_wartosc = random.uniform(0,1)\n",
    "        if wylosowana_wartosc > ostatnia_wartosc:\n",
    "            licznik_warunku+=1\n",
    "\n",
    "        if wylosowana_wartosc>=0.5:\n",
    "            temp_suma+=1\n",
    "        else:\n",
    "            temp_suma-=1\n",
    "\n",
    "        for i in range(ilosc_przedzialow):\n",
    "            if wylosowana_wartosc >= i/ilosc_przedzialow and wylosowana_wartosc < (i+1)/ilosc_przedzialow:\n",
    "                histogram[i] += 1\n",
    "                break\n",
    "        ostatnia_wartosc = wylosowana_wartosc\n",
    "\n",
    "    return histogram, licznik_warunku, erfc(abs(temp_suma)/sqrt(2*n))\n",
    "\n",
    "def histogram_MCG64(n, ilosc_przedzialow):\n",
    "    histogram = []\n",
    "    for _ in range(ilosc_przedzialow):\n",
    "        histogram.append(0)\n",
    "\n",
    "    licznik_warunku = 0\n",
    "    ostatnia_wartosc = 1000\n",
    "\n",
    "    temp_suma = 0\n",
    "\n",
    "    for _ in range(n):\n",
    "        wylosowana_wartosc = np.random.uniform()\n",
    "        if wylosowana_wartosc > ostatnia_wartosc:\n",
    "            licznik_warunku+=1\n",
    "\n",
    "        if wylosowana_wartosc>=0.5:\n",
    "            temp_suma+=1\n",
    "        else:\n",
    "            temp_suma-=1\n",
    "\n",
    "        for i in range(ilosc_przedzialow):\n",
    "            if wylosowana_wartosc >= i/ilosc_przedzialow and wylosowana_wartosc < (i+1)/ilosc_przedzialow:\n",
    "                histogram[i] += 1\n",
    "                break\n",
    "        ostatnia_wartosc = wylosowana_wartosc\n",
    "\n",
    "    return histogram, licznik_warunku, erfc(abs(temp_suma)/sqrt(2*n))\n",
    "\n",
    "\n",
    "temp_histogram_MarsenneTwister, l, erfc_MarsenneTwister = histogram_MarsenneTwister(5000, 10)\n",
    "print(\" MarsenneTwister:\\n Wartości poszczególnych 'kolumn': {} \\n Ilosc prawd warunku 2) :{} \\t Wynik testu (jeśli >=0.01 to zbiór jest losowy): {}\\n\".format(temp_histogram_MarsenneTwister, l, erfc_MarsenneTwister))\n",
    "\n",
    "temp_histogram_MCG64, l, erfc_MCG64 = histogram_MCG64(5000, 10)\n",
    "print(\" MCG64:\\n Wartości poszczególnych 'kolumn': {} \\n Ilosc prawd warunku 2) :{} \\t Wynik testu (jeśli >=0.01 to zbiór jest losowy): {}\\n\".format(temp_histogram_MCG64, l, erfc_MCG64))"
   ],
   "metadata": {
    "collapsed": false,
    "pycharm": {
     "name": "#%%\n"
    }
   }
  },
  {
   "cell_type": "markdown",
   "source": [
    "Co do podpunktu 2. - nierówność $x_{i} < x_{i+1}$ spełniana jest przez połowę z wylosowanych liczb.\n",
    "\n",
    "Uzasadnienie można szukać w statystyce - skoro jest to rozkład jednostajny, to prawdopodobieństwo wylosowania po liczbie $x_{i}$ liczby większej jest równe $1 - x_{i}$, a wartość oczekiwana to $0.5$.\n",
    "Jest to zależność liniowa, więc można prosto przekształcić $average(1 - x_{i}) = 1 - wartość oczekiwana = 1 - 0.5 = 0.5$\n",
    "\n",
    "\"Rzucamy $n$ razy monetą i zliczamy wypadnięcia reszki\"."
   ],
   "metadata": {
    "collapsed": false,
    "pycharm": {
     "name": "#%% md\n"
    }
   }
  },
  {
   "cell_type": "markdown",
   "source": [
    "Co do podpunktu 3. - Test sprawdza proporcję zer do jedynek (a w tym przypadku liczb z przedziału $[0,0.5)$ i $[0.5,1)$).\n",
    "\n",
    "Taka zamiana jest jak najbardziej poprawna, gdyż poprawny generator liczb losowych powinien wylosować taką samą ilość liczb w dwóch przedziałach równej długości.\n",
    "\n",
    "Wartość \"*erfc(abs(temp_suma)/sqrt(2n))*\" to tzw. \"*P-value*\".\n",
    "Gdyby była ona mała, świadczyłoby to, że \"*temp_suma*\" wyszła duża, a ta z kolei powinna oscylować blisko 0."
   ],
   "metadata": {
    "collapsed": false,
    "pycharm": {
     "name": "#%% md\n"
    }
   }
  }
 ],
 "metadata": {
  "kernelspec": {
   "display_name": "Python 3",
   "language": "python",
   "name": "python3"
  },
  "language_info": {
   "codemirror_mode": {
    "name": "ipython",
    "version": 2
   },
   "file_extension": ".py",
   "mimetype": "text/x-python",
   "name": "python",
   "nbconvert_exporter": "python",
   "pygments_lexer": "ipython2",
   "version": "2.7.6"
  }
 },
 "nbformat": 4,
 "nbformat_minor": 0
}