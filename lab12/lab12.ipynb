{
 "cells": [
  {
   "cell_type": "markdown",
   "metadata": {
    "collapsed": true,
    "pycharm": {
     "name": "#%% md\n"
    }
   },
   "source": [
    "### Sprawozdanie - Równania różniczkowe i zagadnienia początkowe\n",
    "<div style=\"text-align: right\"> Wojciech Kosztyła </div>\n"
   ]
  },
  {
   "cell_type": "markdown",
   "source": [
    "#### Zadanie 1 - Metoda Rungego-Kutty\n",
    "\n",
    "Zaimplementuj metodę Rungego-Kutty czwartego rzędu (rozdział 10.2, Kincaid i Cheney), a następnie:\n",
    "1. Opisz zalety metody Rungego-Kutty w porównaniu do metody z szeregami Taylora.\n",
    "\n",
    "2. Rozwiąż zagadnienie początkowe dane równaniem $x' = x/t + t\\sec(x/t)$ z warunkiem początkowym $x(0) = 0$.\n",
    "Przedłuż rozwiązanie do $t = 1$ z krokiem $h=2^{-7}$. Porównaj wynik z dokładnym rozwiązaniem: $x(t) = t * arc\\sin(t)$.\n",
    "\n",
    "3. Używając tej samej metody rozwiąż zagadnienie początkowe dane równaniem $x' = 100(\\sin(t) - x)$\n",
    "z warunkiem początkowym $x(0) = 0$ na przedziale $[0,3]$ używając kroków o rozmiarach $h = 0.015,0.02,0.025,0.03$.\n",
    "Opisz z czego wynikają różnice w rozwiązaniach.\n"
   ],
   "metadata": {
    "collapsed": false
   }
  },
  {
   "cell_type": "markdown",
   "source": [
    "#### Zadanie 2 - Adaptacyjna metoda Rungego-Kutty-Fehlberga\n",
    "\n",
    "Zaimplementuj metodę Rungego-Kutty-Fehlberga (rozdział 10.3, Kincaid i Cheney)\n",
    "i użyj jej do rozwiązania zagadnienia początkowego:\n",
    "$x' = 3x/t + 9/2t - 13$ z warunkiem brzegowym $x(3) = 6$ w punkcie $x(1/2)$ z dokładnością do 9 miejsc po przecinku.\n",
    "Porównaj wynik z rozwiązaniem analitycznym $x=t^{3} - 9/2t^{2} +13/2t$.\n",
    "W jaki sposób metoda adaptacyjna pozwala nam zwiększyć dokładność rozwiązania? Jakie są tego wady?\n",
    "\n",
    "\n"
   ],
   "metadata": {
    "collapsed": false
   }
  }
 ],
 "metadata": {
  "kernelspec": {
   "display_name": "Python 3",
   "language": "python",
   "name": "python3"
  },
  "language_info": {
   "codemirror_mode": {
    "name": "ipython",
    "version": 2
   },
   "file_extension": ".py",
   "mimetype": "text/x-python",
   "name": "python",
   "nbconvert_exporter": "python",
   "pygments_lexer": "ipython2",
   "version": "2.7.6"
  }
 },
 "nbformat": 4,
 "nbformat_minor": 0
}