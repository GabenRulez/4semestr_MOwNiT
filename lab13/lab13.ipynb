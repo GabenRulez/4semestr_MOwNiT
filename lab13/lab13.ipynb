{
 "cells": [
  {
   "cell_type": "markdown",
   "source": [
    "### Sprawozdanie - Minimalizacja funkcji\n",
    "<div style=\"text-align: right\"> Wojciech Kosztyła </div>\n"
   ],
   "metadata": {
    "collapsed": false
   }
  },
  {
   "cell_type": "markdown",
   "source": [
    "#### Zadanie 1 - Problem komiwojażera\n",
    "\n",
    "Wygeneruj chmurę $n$ losowych punktów w 2D, a następnie zastosuj algorytm symulowanego wyżarzania\n",
    " do przybliżonego rozwiązania problemu komiwojażera dla tych punktów.\n",
    "\n",
    "<br>\n",
    "\n",
    "1. Przedstaw wizualizację otrzymanego rozwiązania dla 3 różnych wartości $n$ oraz 3 różnych układów punktów w 2D\n",
    " - rozkład jednostajny,\n",
    " - rozkład normalny z czterema różnymi grupami parametrów,\n",
    " - dziewięc odseparowanych grup punktów).\n",
    "\n",
    "<br>\n",
    "\n",
    "2. Zbadaj wpływ sposobu generacji sąsiedniego stanu\n",
    "\n",
    " - <center>*consecutive swap* - zamiana kolejności losowej pary połączonych wierzchołków w ścieżce</center>\n",
    "\n",
    " <center>vs.</center>\n",
    "\n",
    " - <center>*arbitrary swap* - zamiana dwóch losowych wierzchołków w ścieżce)</center>\n",
    "\n",
    "  oraz początkowej wartości temperatury na zbieżność procesu optymalizacji.\n",
    "\n",
    "<br>\n",
    "\n",
    "3. Przedstaw wizualizację działania procedury minimalizującej funkcję celu (funkcja przekazana do metody dual_annealing może modyfikować zewnętrzny stan)\n"
   ],
   "metadata": {
    "collapsed": false,
    "pycharm": {
     "name": "#%% md\n"
    }
   }
  }
 ],
 "metadata": {
  "kernelspec": {
   "display_name": "Python 3",
   "language": "python",
   "name": "python3"
  },
  "language_info": {
   "codemirror_mode": {
    "name": "ipython",
    "version": 2
   },
   "file_extension": ".py",
   "mimetype": "text/x-python",
   "name": "python",
   "nbconvert_exporter": "python",
   "pygments_lexer": "ipython2",
   "version": "2.7.6"
  }
 },
 "nbformat": 4,
 "nbformat_minor": 0
}