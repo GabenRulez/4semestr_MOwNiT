{
 "cells": [
  {
   "cell_type": "markdown",
   "metadata": {
    "collapsed": true,
    "pycharm": {
     "name": "#%% md\n"
    }
   },
   "source": [
    "### Sprawozdanie - Singular Value Decomposition\n",
    "<div style=\"text-align: right\"> Wojciech Kosztyła </div>"
   ]
  },
  {
   "cell_type": "markdown",
   "source": [
    "#### Zadanie 1 - Wyszukiwarka"
   ],
   "metadata": {
    "collapsed": false
   }
  },
  {
   "cell_type": "code",
   "execution_count": 17,
   "outputs": [],
   "source": [
    "import math\n",
    "import numpy as np"
   ],
   "metadata": {
    "collapsed": false,
    "pycharm": {
     "name": "#%%\n"
    }
   }
  },
  {
   "cell_type": "markdown",
   "source": [
    "1. Przygotuj duży (> 1000 elementów) zbiór dokumentów tekstowych w języku angielskim (np. wybrany korpus tekstów, podzbiór artykułów Wikipedii, zbiór dokumentów HTML uzyskanych za pomocą Web crawlera, zbiór rozdziałów wyciętych z różnych książek)"
   ],
   "metadata": {
    "collapsed": false,
    "pycharm": {
     "name": "#%% md\n"
    }
   }
  },
  {
   "cell_type": "markdown",
   "source": [
    "Pobrałem 2000 recenzji \"polarity_dataset_v2.0\" z http://www.cs.cornell.edu/people/pabo/movie-review-data/"
   ],
   "metadata": {
    "collapsed": false,
    "pycharm": {
     "name": "#%% md\n"
    }
   }
  },
  {
   "cell_type": "markdown",
   "source": [
    "2. Określ słownik słów kluczowych (termów) potrzebny do wyznaczenia wektorów cech bag-of-words (indeksacja). Przykładowo zbiorem takim może być unia wszystkich słów występujących we wszystkich tekstach."
   ],
   "metadata": {
    "collapsed": false
   }
  },
  {
   "cell_type": "code",
   "execution_count": 18,
   "outputs": [
    {
     "name": "stdout",
     "output_type": "stream",
     "text": [
      "Wczytałem plik nr.1\n",
      "{'plot': 1, 'two': 2, 'teen': 4, 'couples': 1, 'go': 2, 'to': 16, 'a': 14, 'church': 1, 'party': 1, 'drink': 1, 'and': 20, 'then': 3, 'drive': 1, 'they': 5, 'get': 3, 'into': 5, 'an': 3, 'accident': 1, 'one': 3, 'of': 16, 'the': 38, 'guys': 1, 'dies': 1, 'but': 10, 'his': 1, 'girlfriend': 1, 'continues': 1, 'see': 2, 'him': 1, 'in': 8, 'her': 4, 'life': 1, 'has': 3, 'nightmares': 1, \"what's\": 2, 'deal': 1, 'watch': 1, 'movie': 6, 'sorta': 1, 'find': 1, 'out': 3, 'critique': 1, 'mind': 3, 'fuck': 2, 'for': 4, 'generation': 1, 'that': 13, 'touches': 1, 'on': 4, 'very': 2, 'cool': 2, 'idea': 2, 'presents': 1, 'it': 21, 'bad': 2, 'package': 1, 'which': 4, 'is': 12, 'what': 2, 'makes': 1, 'this': 10, 'review': 1, 'even': 3, 'harder': 1, 'write': 1, 'since': 2, 'i': 7, 'generally': 1, 'applaud': 1, 'films': 2, 'attempt': 1, 'break': 1, 'mold': 1, 'mess': 1, 'with': 5, 'your': 2, 'head': 1, 'such': 1, 'lost': 2, 'highway': 2, 'memento': 2, 'there': 10, 'are': 13, 'good': 2, 'ways': 1, 'making': 1, 'all': 6, 'types': 1, 'these': 1, 'folks': 1, 'just': 4, \"didn't\": 2, 'snag': 1, 'correctly': 1, 'seem': 1, 'have': 2, 'taken': 1, 'pretty': 5, 'neat': 1, 'concept': 1, 'executed': 1, 'terribly': 1, 'so': 3, 'problems': 1, 'well': 1, 'its': 4, 'main': 1, 'problem': 2, \"it's\": 4, 'simply': 2, 'too': 1, 'jumbled': 1, 'starts': 1, 'off': 1, 'normal': 1, 'downshifts': 1, 'fantasy': 1, 'world': 2, 'you': 3, 'as': 1, 'audience': 2, 'member': 1, 'no': 1, 'going': 2, 'dreams': 1, 'characters': 1, 'coming': 2, 'back': 1, 'from': 4, 'dead': 2, 'others': 2, 'who': 3, 'look': 2, 'like': 3, 'strange': 1, 'apparitions': 1, 'disappearances': 1, 'looooot': 1, 'chase': 1, 'scenes': 2, 'tons': 1, 'weird': 1, 'things': 2, 'happen': 1, 'most': 4, 'not': 3, 'explained': 1, 'now': 2, 'personally': 1, \"don't\": 2, 'trying': 1, 'unravel': 1, 'film': 5, 'every': 1, 'when': 1, 'does': 1, 'give': 1, 'me': 1, 'same': 2, 'clue': 1, 'over': 4, 'again': 2, 'kind': 1, 'fed': 1, 'up': 2, 'after': 2, 'while': 1, \"film's\": 1, 'biggest': 2, 'obviously': 1, 'got': 1, 'big': 1, 'secret': 2, 'hide': 2, 'seems': 1, 'want': 1, 'completely': 1, 'until': 1, 'final': 1, 'five': 1, 'minutes': 2, 'do': 2, 'make': 5, 'entertaining': 2, 'thrilling': 1, 'or': 2, 'engaging': 1, 'meantime': 1, 'really': 2, 'sad': 1, 'part': 2, 'arrow': 1, 'both': 1, 'dig': 1, 'flicks': 1, 'we': 4, 'actually': 2, 'figured': 1, 'by': 2, 'half': 1, 'way': 3, 'point': 1, 'strangeness': 2, 'did': 2, 'start': 1, 'little': 2, 'bit': 1, 'sense': 2, 'still': 2, 'more': 2, 'guess': 2, 'bottom': 1, 'line': 1, 'movies': 1, 'should': 1, 'always': 1, 'sure': 1, 'before': 2, 'given': 1, 'password': 1, 'enter': 1, 'understanding': 1, 'mean': 1, 'showing': 1, 'melissa': 1, 'sagemiller': 2, 'running': 1, 'away': 2, 'visions': 1, 'about': 2, 'throughout': 2, 'plain': 1, 'lazy': 1, 'okay': 1, 'people': 1, 'chasing': 1, 'know': 1, 'need': 1, 'how': 1, 'giving': 1, 'us': 1, 'different': 1, 'offering': 1, 'further': 1, 'insight': 1, 'down': 1, 'apparently': 2, 'studio': 1, 'took': 1, 'director': 1, 'chopped': 1, 'themselves': 1, 'shows': 1, \"might've\": 1, 'been': 2, 'decent': 1, 'here': 1, 'somewhere': 1, 'suits': 1, 'decided': 1, 'turning': 1, 'music': 1, 'video': 1, 'edge': 1, 'would': 1, 'actors': 1, 'although': 1, 'wes': 1, 'bentley': 1, 'seemed': 1, 'be': 1, 'playing': 1, 'exact': 1, 'character': 1, 'he': 1, 'american': 1, 'beauty': 1, 'only': 1, 'new': 1, 'neighborhood': 1, 'my': 1, 'kudos': 1, 'holds': 1, 'own': 1, 'entire': 1, 'feeling': 1, \"character's\": 1, 'unraveling': 1, 'overall': 1, \"doesn't\": 2, 'stick': 1, 'because': 2, 'entertain': 1, 'confusing': 1, 'rarely': 1, 'excites': 1, 'feels': 1, 'redundant': 1, 'runtime': 1, 'despite': 1, 'ending': 1, 'explanation': 1, 'craziness': 1, 'came': 1, 'oh': 1, 'horror': 1, 'slasher': 1, 'flick': 1, 'packaged': 1, 'someone': 1, 'assuming': 1, 'genre': 1, 'hot': 1, 'kids': 1, 'also': 1, 'wrapped': 1, 'production': 1, 'years': 1, 'ago': 1, 'sitting': 1, 'shelves': 1, 'ever': 1, 'whatever': 1, 'skip': 1, \"where's\": 1, 'joblo': 1, 'nightmare': 1, 'elm': 1, 'street': 1, 'blair': 1, 'witch': 1, 'crow': 2, 'salvation': 1, 'stir': 1, 'echoes': 1}\n"
     ]
    }
   ],
   "source": [
    "ilosc_dokumentow = 2000\n",
    "\n",
    "def otworz_dokument_tekstowy(numer):\n",
    "    numer_string = str(numer)\n",
    "    while(len(numer_string) < 4):\n",
    "        numer_string = \"0\" + numer_string\n",
    "    return open(\"recenzje/recenzja_\" + numer_string + \".txt\")\n",
    "\n",
    "def wczytaj_dokument(i):\n",
    "    plik = otworz_dokument_tekstowy(i)\n",
    "    temp_slowa = plik.read().lower()\n",
    "    temp_slowa = list(temp_slowa)\n",
    "    dlugosc_pliku = len(temp_slowa)\n",
    "    for pozycja in range(dlugosc_pliku):\n",
    "        if (temp_slowa[pozycja] == \",\" or temp_slowa[pozycja] == \".\" or temp_slowa[pozycja] == \":\" or temp_slowa[pozycja] == \"(\" or temp_slowa[pozycja] == \")\" or temp_slowa[pozycja] == '\"' or temp_slowa[pozycja] == \"?\" or temp_slowa[pozycja] == \"!\" or temp_slowa[pozycja] == \"&\" or temp_slowa[pozycja] == \"-\" or temp_slowa[pozycja] == \"/\" or temp_slowa[pozycja].isdigit()):\n",
    "            temp_slowa[pozycja] = ' '\n",
    "    temp_slowa = \"\".join(temp_slowa)\n",
    "    temp_slowa = temp_slowa.split()\n",
    "    return temp_slowa\n",
    "\n",
    "def wczytaj_wszystkie_dokumenty():\n",
    "    slowa = []\n",
    "    last_said = 0\n",
    "    for i in range(1, ilosc_dokumentow + 1):\n",
    "        slowa += wczytaj_dokument(i)\n",
    "        if int(100*i / ilosc_dokumentow) > last_said:   # wypisuje logi co 1%\n",
    "            print(\"Wczytałem plik nr.\"+str(i))\n",
    "            last_said = int(100*i / ilosc_dokumentow)\n",
    "    return slowa\n",
    "\n",
    "def tworz_slownik_slow_kluczowych(slowa):\n",
    "    slownik = {}\n",
    "    for slowo in slowa:\n",
    "        if slowo in slownik.keys():\n",
    "            slownik[slowo] += 1\n",
    "        else:\n",
    "            slownik[slowo] = 1\n",
    "    return slownik\n",
    "\n",
    "\n",
    "otworz_dokument_tekstowy(1)\n",
    "ilosc_dokumentow = 1\n",
    "wszystkie_slowa = wczytaj_wszystkie_dokumenty()\n",
    "slownik = tworz_slownik_slow_kluczowych(wszystkie_slowa)\n",
    "\n",
    "print(slownik)\n"
   ],
   "metadata": {
    "collapsed": false,
    "pycharm": {
     "name": "#%%\n"
    }
   }
  },
  {
   "cell_type": "markdown",
   "source": [
    "3. Dla każdego dokumentu j wyznacz wektor cech bag-of-words dj zawierający częstości występowania poszczególnych słów (termów) w tekście."
   ],
   "metadata": {
    "collapsed": false
   }
  },
  {
   "cell_type": "markdown",
   "source": [
    "Funkcje tworz_slownik_slow_kluczowych() i wczytaj_dokument() to implementują. Jedynie wystarczy podzielić wartości <ilość wystąpień> na prawdopodobieństwo."
   ],
   "metadata": {
    "collapsed": false,
    "pycharm": {
     "name": "#%% md\n"
    }
   }
  },
  {
   "cell_type": "code",
   "execution_count": 19,
   "outputs": [
    {
     "data": {
      "text/plain": "{'plot': 0.0,\n 'two': 1.78746983644651e-05,\n 'teen': 3.57493967289302e-05,\n 'couples': 5.3624095093395296e-05,\n 'go': 7.14987934578604e-05,\n 'to': 8.93734918223255e-05,\n 'a': 0.00010724819018679059,\n 'church': 0.00012512288855125568,\n 'party': 0.0001429975869157208,\n 'drink': 0.0001608722852801859,\n 'and': 0.000178746983644651,\n 'then': 0.0001966216820091161,\n 'drive': 0.00021449638037358118,\n 'they': 0.0002323710787380463,\n 'get': 0.00025024577710251137,\n 'into': 0.0002681204754669765,\n 'an': 0.0002859951738314416,\n 'accident': 0.0003038698721959067,\n 'one': 0.0003217445705603718,\n 'of': 0.00033961926892483687,\n 'the': 0.000357493967289302,\n 'guys': 0.0003753686656537671,\n 'dies': 0.0003932433640182322,\n 'but': 0.0004111180623826973,\n 'his': 0.00042899276074716237,\n 'girlfriend': 0.0004468674591116275,\n 'continues': 0.0004647421574760926,\n 'see': 0.0004826168558405577,\n 'him': 0.0005004915542050227,\n 'in': 0.0005183662525694879,\n 'her': 0.000536240950933953,\n 'life': 0.0005541156492984181,\n 'has': 0.0005719903476628832,\n 'nightmares': 0.0005898650460273482,\n \"what's\": 0.0006077397443918134,\n 'deal': 0.0006256144427562785,\n 'watch': 0.0006434891411207436,\n 'movie': 0.0006613638394852087,\n 'sorta': 0.0006792385378496737,\n 'find': 0.0006971132362141389,\n 'out': 0.000714987934578604,\n 'critique': 0.0007328626329430691,\n 'mind': 0.0007507373313075342,\n 'fuck': 0.0007686120296719992,\n 'for': 0.0007864867280364644,\n 'generation': 0.0008043614264009295,\n 'that': 0.0008222361247653946,\n 'touches': 0.0008401108231298597,\n 'on': 0.0008579855214943247,\n 'very': 0.0008758602198587899,\n 'cool': 0.000893734918223255,\n 'idea': 0.0009116096165877201,\n 'presents': 0.0009294843149521852,\n 'it': 0.0009473590133166502,\n 'bad': 0.0009652337116811154,\n 'package': 0.0009831084100455805,\n 'which': 0.0010009831084100455,\n 'is': 0.0010188578067745107,\n 'what': 0.0010367325051389758,\n 'makes': 0.0010546072035034408,\n 'this': 0.001072481901867906,\n 'review': 0.001090356600232371,\n 'even': 0.0011082312985968362,\n 'harder': 0.0011261059969613013,\n 'write': 0.0011439806953257663,\n 'since': 0.0011618553936902315,\n 'i': 0.0011797300920546965,\n 'generally': 0.0011976047904191617,\n 'applaud': 0.0012154794887836268,\n 'films': 0.0012333541871480918,\n 'attempt': 0.001251228885512557,\n 'break': 0.001269103583877022,\n 'mold': 0.0012869782822414872,\n 'mess': 0.0013048529806059523,\n 'with': 0.0013227276789704173,\n 'your': 0.0013406023773348825,\n 'head': 0.0013584770756993475,\n 'such': 0.0013763517740638127,\n 'lost': 0.0013942264724282779,\n 'highway': 0.0014121011707927428,\n 'memento': 0.001429975869157208,\n 'there': 0.001447850567521673,\n 'are': 0.0014657252658861382,\n 'good': 0.0014835999642506034,\n 'ways': 0.0015014746626150683,\n 'making': 0.0015193493609795335,\n 'all': 0.0015372240593439985,\n 'types': 0.0015550987577084637,\n 'these': 0.0015729734560729289,\n 'folks': 0.0015908481544373938,\n 'just': 0.001608722852801859,\n \"didn't\": 0.001626597551166324,\n 'snag': 0.0016444722495307892,\n 'correctly': 0.0016623469478952544,\n 'seem': 0.0016802216462597193,\n 'have': 0.0016980963446241845,\n 'taken': 0.0017159710429886495,\n 'pretty': 0.0017338457413531147,\n 'neat': 0.0017517204397175799,\n 'concept': 0.0017695951380820448,\n 'executed': 0.00178746983644651,\n 'terribly': 0.001805344534810975,\n 'so': 0.0018232192331754402,\n 'problems': 0.0018410939315399054,\n 'well': 0.0018589686299043703,\n 'its': 0.0018768433282688355,\n 'main': 0.0018947180266333005,\n 'problem': 0.0019125927249977657,\n \"it's\": 0.0019304674233622309,\n 'simply': 0.0019483421217266958,\n 'too': 0.001966216820091161,\n 'jumbled': 0.001984091518455626,\n 'starts': 0.002001966216820091,\n 'off': 0.0020198409151845564,\n 'normal': 0.0020377156135490213,\n 'downshifts': 0.0020555903119134863,\n 'fantasy': 0.0020734650102779517,\n 'world': 0.0020913397086424167,\n 'you': 0.0021092144070068816,\n 'as': 0.002127089105371347,\n 'audience': 0.002144963803735812,\n 'member': 0.002162838502100277,\n 'no': 0.002180713200464742,\n 'going': 0.0021985878988292074,\n 'dreams': 0.0022164625971936723,\n 'characters': 0.0022343372955581373,\n 'coming': 0.0022522119939226027,\n 'back': 0.0022700866922870677,\n 'from': 0.0022879613906515326,\n 'dead': 0.002305836089015998,\n 'others': 0.002323710787380463,\n 'who': 0.002341585485744928,\n 'look': 0.002359460184109393,\n 'like': 0.0023773348824738584,\n 'strange': 0.0023952095808383233,\n 'apparitions': 0.0024130842792027883,\n 'disappearances': 0.0024309589775672537,\n 'looooot': 0.0024488336759317187,\n 'chase': 0.0024667083742961836,\n 'scenes': 0.002484583072660649,\n 'tons': 0.002502457771025114,\n 'weird': 0.002520332469389579,\n 'things': 0.002538207167754044,\n 'happen': 0.0025560818661185094,\n 'most': 0.0025739565644829743,\n 'not': 0.0025918312628474393,\n 'explained': 0.0026097059612119047,\n 'now': 0.0026275806595763697,\n 'personally': 0.0026454553579408346,\n \"don't\": 0.0026633300563053,\n 'trying': 0.002681204754669765,\n 'unravel': 0.00269907945303423,\n 'film': 0.002716954151398695,\n 'every': 0.0027348288497631604,\n 'when': 0.0027527035481276253,\n 'does': 0.0027705782464920903,\n 'give': 0.0027884529448565557,\n 'me': 0.0028063276432210207,\n 'same': 0.0028242023415854856,\n 'clue': 0.002842077039949951,\n 'over': 0.002859951738314416,\n 'again': 0.002877826436678881,\n 'kind': 0.002895701135043346,\n 'fed': 0.0029135758334078114,\n 'up': 0.0029314505317722763,\n 'after': 0.0029493252301367413,\n 'while': 0.0029671999285012067,\n \"film's\": 0.0029850746268656717,\n 'biggest': 0.0030029493252301366,\n 'obviously': 0.003020824023594602,\n 'got': 0.003038698721959067,\n 'big': 0.003056573420323532,\n 'secret': 0.003074448118687997,\n 'hide': 0.0030923228170524624,\n 'seems': 0.0031101975154169273,\n 'want': 0.0031280722137813923,\n 'completely': 0.0031459469121458577,\n 'until': 0.0031638216105103227,\n 'final': 0.0031816963088747876,\n 'five': 0.003199571007239253,\n 'minutes': 0.003217445705603718,\n 'do': 0.003235320403968183,\n 'make': 0.003253195102332648,\n 'entertaining': 0.0032710698006971134,\n 'thrilling': 0.0032889444990615783,\n 'or': 0.0033068191974260433,\n 'engaging': 0.0033246938957905087,\n 'meantime': 0.0033425685941549737,\n 'really': 0.0033604432925194386,\n 'sad': 0.003378317990883904,\n 'part': 0.003396192689248369,\n 'arrow': 0.003414067387612834,\n 'both': 0.003431942085977299,\n 'dig': 0.0034498167843417644,\n 'flicks': 0.0034676914827062293,\n 'we': 0.0034855661810706943,\n 'actually': 0.0035034408794351597,\n 'figured': 0.0035213155777996247,\n 'by': 0.0035391902761640896,\n 'half': 0.0035570649745285546,\n 'way': 0.00357493967289302,\n 'point': 0.003592814371257485,\n 'strangeness': 0.00361068906962195,\n 'did': 0.0036285637679864154,\n 'start': 0.0036464384663508803,\n 'little': 0.0036643131647153453,\n 'bit': 0.0036821878630798107,\n 'sense': 0.0037000625614442757,\n 'still': 0.0037179372598087406,\n 'more': 0.0037358119581732056,\n 'guess': 0.003753686656537671,\n 'bottom': 0.003771561354902136,\n 'line': 0.003789436053266601,\n 'movies': 0.0038073107516310664,\n 'should': 0.0038251854499955313,\n 'always': 0.0038430601483599963,\n 'sure': 0.0038609348467244617,\n 'before': 0.0038788095450889267,\n 'given': 0.0038966842434533916,\n 'password': 0.003914558941817857,\n 'enter': 0.003932433640182322,\n 'understanding': 0.003950308338546787,\n 'mean': 0.003968183036911252,\n 'showing': 0.003986057735275717,\n 'melissa': 0.004003932433640182,\n 'sagemiller': 0.004021807132004647,\n 'running': 0.004039681830369113,\n 'away': 0.004057556528733577,\n 'visions': 0.004075431227098043,\n 'about': 0.004093305925462508,\n 'throughout': 0.004111180623826973,\n 'plain': 0.004129055322191438,\n 'lazy': 0.004146930020555903,\n 'okay': 0.004164804718920368,\n 'people': 0.004182679417284833,\n 'chasing': 0.004200554115649299,\n 'know': 0.004218428814013763,\n 'need': 0.004236303512378229,\n 'how': 0.004254178210742694,\n 'giving': 0.004272052909107159,\n 'us': 0.004289927607471624,\n 'different': 0.004307802305836089,\n 'offering': 0.004325677004200554,\n 'further': 0.004343551702565019,\n 'insight': 0.004361426400929484,\n 'down': 0.004379301099293949,\n 'apparently': 0.004397175797658415,\n 'studio': 0.004415050496022879,\n 'took': 0.004432925194387345,\n 'director': 0.00445079989275181,\n 'chopped': 0.004468674591116275,\n 'themselves': 0.00448654928948074,\n 'shows': 0.004504423987845205,\n \"might've\": 0.00452229868620967,\n 'been': 0.004540173384574135,\n 'decent': 0.004558048082938601,\n 'here': 0.004575922781303065,\n 'somewhere': 0.004593797479667531,\n 'suits': 0.004611672178031996,\n 'decided': 0.004629546876396461,\n 'turning': 0.004647421574760926,\n 'music': 0.004665296273125391,\n 'video': 0.004683170971489856,\n 'edge': 0.004701045669854321,\n 'would': 0.004718920368218786,\n 'actors': 0.004736795066583251,\n 'although': 0.004754669764947717,\n 'wes': 0.004772544463312181,\n 'bentley': 0.004790419161676647,\n 'seemed': 0.004808293860041112,\n 'be': 0.004826168558405577,\n 'playing': 0.004844043256770042,\n 'exact': 0.004861917955134507,\n 'character': 0.004879792653498972,\n 'he': 0.004897667351863437,\n 'american': 0.004915542050227903,\n 'beauty': 0.004933416748592367,\n 'only': 0.004951291446956833,\n 'new': 0.004969166145321298,\n 'neighborhood': 0.004987040843685763,\n 'my': 0.005004915542050228,\n 'kudos': 0.005022790240414693,\n 'holds': 0.005040664938779158,\n 'own': 0.005058539637143623,\n 'entire': 0.005076414335508088,\n 'feeling': 0.005094289033872553,\n \"character's\": 0.005112163732237019,\n 'unraveling': 0.005130038430601483,\n 'overall': 0.005147913128965949,\n \"doesn't\": 0.005165787827330414,\n 'stick': 0.005183662525694879,\n 'because': 0.005201537224059344,\n 'entertain': 0.005219411922423809,\n 'confusing': 0.005237286620788274,\n 'rarely': 0.005255161319152739,\n 'excites': 0.005273036017517205,\n 'feels': 0.005290910715881669,\n 'redundant': 0.005308785414246135,\n 'runtime': 0.0053266601126106,\n 'despite': 0.005344534810975065,\n 'ending': 0.00536240950933953,\n 'explanation': 0.0053802842077039946,\n 'craziness': 0.00539815890606846,\n 'came': 0.005416033604432925,\n 'oh': 0.00543390830279739,\n 'horror': 0.005451783001161855,\n 'slasher': 0.005469657699526321,\n 'flick': 0.005487532397890785,\n 'packaged': 0.005505407096255251,\n 'someone': 0.005523281794619716,\n 'assuming': 0.005541156492984181,\n 'genre': 0.005559031191348646,\n 'hot': 0.005576905889713111,\n 'kids': 0.005594780588077576,\n 'also': 0.005612655286442041,\n 'wrapped': 0.005630529984806507,\n 'production': 0.005648404683170971,\n 'years': 0.005666279381535437,\n 'ago': 0.005684154079899902,\n 'sitting': 0.005702028778264367,\n 'shelves': 0.005719903476628832,\n 'ever': 0.0057377781749932966,\n 'whatever': 0.005755652873357762,\n 'skip': 0.005773527571722227,\n \"where's\": 0.005791402270086692,\n 'joblo': 0.005809276968451157,\n 'nightmare': 0.005827151666815623,\n 'elm': 0.005845026365180087,\n 'street': 0.005862901063544553,\n 'blair': 0.005880775761909018,\n 'witch': 0.005898650460273483,\n 'crow': 0.005916525158637948,\n 'salvation': 0.005934399857002413,\n 'stir': 0.005952274555366878,\n 'echoes': 0.005970149253731343}"
     },
     "execution_count": 19,
     "metadata": {},
     "output_type": "execute_result"
    }
   ],
   "source": [
    "def tworz_bag_of_words_z_slownika(slownik):\n",
    "    suma_ilosci = 0.0\n",
    "    for ilosc, slowo in enumerate(slownik):\n",
    "        suma_ilosci += int(ilosc)\n",
    "    for ilosc, slowo in enumerate(slownik):\n",
    "        slownik[slowo] = ilosc / suma_ilosci\n",
    "    return slownik\n",
    "\n",
    "def tworz_bag_of_words_z_dokumentu(n):\n",
    "    nieprzebrane_slowa = wczytaj_dokument(n)\n",
    "    slownik_ilosci_wystepowania = tworz_slownik_slow_kluczowych(nieprzebrane_slowa)\n",
    "    bag_of_words = tworz_bag_of_words_z_slownika(slownik_ilosci_wystepowania)\n",
    "    return bag_of_words\n",
    "\n",
    "\n",
    "tworz_bag_of_words_z_slownika(slownik)"
   ],
   "metadata": {
    "collapsed": false,
    "pycharm": {
     "name": "#%%\n"
    }
   }
  },
  {
   "cell_type": "markdown",
   "source": [
    "4. Zbuduj rzadką macierz wektorów cech term-by-document matrix w której wektory cech ułożone są kolumnowo $A_{m×n} = [d1|d2|...|dn]$ (m jest liczbą termów w słowniku, a n liczbą dokumentów)"
   ],
   "metadata": {
    "collapsed": false
   }
  },
  {
   "cell_type": "code",
   "execution_count": 20,
   "outputs": [
    {
     "name": "stdout",
     "output_type": "stream",
     "text": [
      "{'plot': 0.0, 'two': 1.78746983644651e-05, 'teen': 3.57493967289302e-05, 'couples': 5.3624095093395296e-05, 'go': 7.14987934578604e-05, 'to': 8.93734918223255e-05, 'a': 0.00010724819018679059, 'church': 0.00012512288855125568, 'party': 0.0001429975869157208, 'drink': 0.0001608722852801859, 'and': 0.000178746983644651, 'then': 0.0001966216820091161, 'drive': 0.00021449638037358118, 'they': 0.0002323710787380463, 'get': 0.00025024577710251137, 'into': 0.0002681204754669765, 'an': 0.0002859951738314416, 'accident': 0.0003038698721959067, 'one': 0.0003217445705603718, 'of': 0.00033961926892483687, 'the': 0.000357493967289302, 'guys': 0.0003753686656537671, 'dies': 0.0003932433640182322, 'but': 0.0004111180623826973, 'his': 0.00042899276074716237, 'girlfriend': 0.0004468674591116275, 'continues': 0.0004647421574760926, 'see': 0.0004826168558405577, 'him': 0.0005004915542050227, 'in': 0.0005183662525694879, 'her': 0.000536240950933953, 'life': 0.0005541156492984181, 'has': 0.0005719903476628832, 'nightmares': 0.0005898650460273482, \"what's\": 0.0006077397443918134, 'deal': 0.0006256144427562785, 'watch': 0.0006434891411207436, 'movie': 0.0006613638394852087, 'sorta': 0.0006792385378496737, 'find': 0.0006971132362141389, 'out': 0.000714987934578604, 'critique': 0.0007328626329430691, 'mind': 0.0007507373313075342, 'fuck': 0.0007686120296719992, 'for': 0.0007864867280364644, 'generation': 0.0008043614264009295, 'that': 0.0008222361247653946, 'touches': 0.0008401108231298597, 'on': 0.0008579855214943247, 'very': 0.0008758602198587899, 'cool': 0.000893734918223255, 'idea': 0.0009116096165877201, 'presents': 0.0009294843149521852, 'it': 0.0009473590133166502, 'bad': 0.0009652337116811154, 'package': 0.0009831084100455805, 'which': 0.0010009831084100455, 'is': 0.0010188578067745107, 'what': 0.0010367325051389758, 'makes': 0.0010546072035034408, 'this': 0.001072481901867906, 'review': 0.001090356600232371, 'even': 0.0011082312985968362, 'harder': 0.0011261059969613013, 'write': 0.0011439806953257663, 'since': 0.0011618553936902315, 'i': 0.0011797300920546965, 'generally': 0.0011976047904191617, 'applaud': 0.0012154794887836268, 'films': 0.0012333541871480918, 'attempt': 0.001251228885512557, 'break': 0.001269103583877022, 'mold': 0.0012869782822414872, 'mess': 0.0013048529806059523, 'with': 0.0013227276789704173, 'your': 0.0013406023773348825, 'head': 0.0013584770756993475, 'such': 0.0013763517740638127, 'lost': 0.0013942264724282779, 'highway': 0.0014121011707927428, 'memento': 0.001429975869157208, 'there': 0.001447850567521673, 'are': 0.0014657252658861382, 'good': 0.0014835999642506034, 'ways': 0.0015014746626150683, 'making': 0.0015193493609795335, 'all': 0.0015372240593439985, 'types': 0.0015550987577084637, 'these': 0.0015729734560729289, 'folks': 0.0015908481544373938, 'just': 0.001608722852801859, \"didn't\": 0.001626597551166324, 'snag': 0.0016444722495307892, 'correctly': 0.0016623469478952544, 'seem': 0.0016802216462597193, 'have': 0.0016980963446241845, 'taken': 0.0017159710429886495, 'pretty': 0.0017338457413531147, 'neat': 0.0017517204397175799, 'concept': 0.0017695951380820448, 'executed': 0.00178746983644651, 'terribly': 0.001805344534810975, 'so': 0.0018232192331754402, 'problems': 0.0018410939315399054, 'well': 0.0018589686299043703, 'its': 0.0018768433282688355, 'main': 0.0018947180266333005, 'problem': 0.0019125927249977657, \"it's\": 0.0019304674233622309, 'simply': 0.0019483421217266958, 'too': 0.001966216820091161, 'jumbled': 0.001984091518455626, 'starts': 0.002001966216820091, 'off': 0.0020198409151845564, 'normal': 0.0020377156135490213, 'downshifts': 0.0020555903119134863, 'fantasy': 0.0020734650102779517, 'world': 0.0020913397086424167, 'you': 0.0021092144070068816, 'as': 0.002127089105371347, 'audience': 0.002144963803735812, 'member': 0.002162838502100277, 'no': 0.002180713200464742, 'going': 0.0021985878988292074, 'dreams': 0.0022164625971936723, 'characters': 0.0022343372955581373, 'coming': 0.0022522119939226027, 'back': 0.0022700866922870677, 'from': 0.0022879613906515326, 'dead': 0.002305836089015998, 'others': 0.002323710787380463, 'who': 0.002341585485744928, 'look': 0.002359460184109393, 'like': 0.0023773348824738584, 'strange': 0.0023952095808383233, 'apparitions': 0.0024130842792027883, 'disappearances': 0.0024309589775672537, 'looooot': 0.0024488336759317187, 'chase': 0.0024667083742961836, 'scenes': 0.002484583072660649, 'tons': 0.002502457771025114, 'weird': 0.002520332469389579, 'things': 0.002538207167754044, 'happen': 0.0025560818661185094, 'most': 0.0025739565644829743, 'not': 0.0025918312628474393, 'explained': 0.0026097059612119047, 'now': 0.0026275806595763697, 'personally': 0.0026454553579408346, \"don't\": 0.0026633300563053, 'trying': 0.002681204754669765, 'unravel': 0.00269907945303423, 'film': 0.002716954151398695, 'every': 0.0027348288497631604, 'when': 0.0027527035481276253, 'does': 0.0027705782464920903, 'give': 0.0027884529448565557, 'me': 0.0028063276432210207, 'same': 0.0028242023415854856, 'clue': 0.002842077039949951, 'over': 0.002859951738314416, 'again': 0.002877826436678881, 'kind': 0.002895701135043346, 'fed': 0.0029135758334078114, 'up': 0.0029314505317722763, 'after': 0.0029493252301367413, 'while': 0.0029671999285012067, \"film's\": 0.0029850746268656717, 'biggest': 0.0030029493252301366, 'obviously': 0.003020824023594602, 'got': 0.003038698721959067, 'big': 0.003056573420323532, 'secret': 0.003074448118687997, 'hide': 0.0030923228170524624, 'seems': 0.0031101975154169273, 'want': 0.0031280722137813923, 'completely': 0.0031459469121458577, 'until': 0.0031638216105103227, 'final': 0.0031816963088747876, 'five': 0.003199571007239253, 'minutes': 0.003217445705603718, 'do': 0.003235320403968183, 'make': 0.003253195102332648, 'entertaining': 0.0032710698006971134, 'thrilling': 0.0032889444990615783, 'or': 0.0033068191974260433, 'engaging': 0.0033246938957905087, 'meantime': 0.0033425685941549737, 'really': 0.0033604432925194386, 'sad': 0.003378317990883904, 'part': 0.003396192689248369, 'arrow': 0.003414067387612834, 'both': 0.003431942085977299, 'dig': 0.0034498167843417644, 'flicks': 0.0034676914827062293, 'we': 0.0034855661810706943, 'actually': 0.0035034408794351597, 'figured': 0.0035213155777996247, 'by': 0.0035391902761640896, 'half': 0.0035570649745285546, 'way': 0.00357493967289302, 'point': 0.003592814371257485, 'strangeness': 0.00361068906962195, 'did': 0.0036285637679864154, 'start': 0.0036464384663508803, 'little': 0.0036643131647153453, 'bit': 0.0036821878630798107, 'sense': 0.0037000625614442757, 'still': 0.0037179372598087406, 'more': 0.0037358119581732056, 'guess': 0.003753686656537671, 'bottom': 0.003771561354902136, 'line': 0.003789436053266601, 'movies': 0.0038073107516310664, 'should': 0.0038251854499955313, 'always': 0.0038430601483599963, 'sure': 0.0038609348467244617, 'before': 0.0038788095450889267, 'given': 0.0038966842434533916, 'password': 0.003914558941817857, 'enter': 0.003932433640182322, 'understanding': 0.003950308338546787, 'mean': 0.003968183036911252, 'showing': 0.003986057735275717, 'melissa': 0.004003932433640182, 'sagemiller': 0.004021807132004647, 'running': 0.004039681830369113, 'away': 0.004057556528733577, 'visions': 0.004075431227098043, 'about': 0.004093305925462508, 'throughout': 0.004111180623826973, 'plain': 0.004129055322191438, 'lazy': 0.004146930020555903, 'okay': 0.004164804718920368, 'people': 0.004182679417284833, 'chasing': 0.004200554115649299, 'know': 0.004218428814013763, 'need': 0.004236303512378229, 'how': 0.004254178210742694, 'giving': 0.004272052909107159, 'us': 0.004289927607471624, 'different': 0.004307802305836089, 'offering': 0.004325677004200554, 'further': 0.004343551702565019, 'insight': 0.004361426400929484, 'down': 0.004379301099293949, 'apparently': 0.004397175797658415, 'studio': 0.004415050496022879, 'took': 0.004432925194387345, 'director': 0.00445079989275181, 'chopped': 0.004468674591116275, 'themselves': 0.00448654928948074, 'shows': 0.004504423987845205, \"might've\": 0.00452229868620967, 'been': 0.004540173384574135, 'decent': 0.004558048082938601, 'here': 0.004575922781303065, 'somewhere': 0.004593797479667531, 'suits': 0.004611672178031996, 'decided': 0.004629546876396461, 'turning': 0.004647421574760926, 'music': 0.004665296273125391, 'video': 0.004683170971489856, 'edge': 0.004701045669854321, 'would': 0.004718920368218786, 'actors': 0.004736795066583251, 'although': 0.004754669764947717, 'wes': 0.004772544463312181, 'bentley': 0.004790419161676647, 'seemed': 0.004808293860041112, 'be': 0.004826168558405577, 'playing': 0.004844043256770042, 'exact': 0.004861917955134507, 'character': 0.004879792653498972, 'he': 0.004897667351863437, 'american': 0.004915542050227903, 'beauty': 0.004933416748592367, 'only': 0.004951291446956833, 'new': 0.004969166145321298, 'neighborhood': 0.004987040843685763, 'my': 0.005004915542050228, 'kudos': 0.005022790240414693, 'holds': 0.005040664938779158, 'own': 0.005058539637143623, 'entire': 0.005076414335508088, 'feeling': 0.005094289033872553, \"character's\": 0.005112163732237019, 'unraveling': 0.005130038430601483, 'overall': 0.005147913128965949, \"doesn't\": 0.005165787827330414, 'stick': 0.005183662525694879, 'because': 0.005201537224059344, 'entertain': 0.005219411922423809, 'confusing': 0.005237286620788274, 'rarely': 0.005255161319152739, 'excites': 0.005273036017517205, 'feels': 0.005290910715881669, 'redundant': 0.005308785414246135, 'runtime': 0.0053266601126106, 'despite': 0.005344534810975065, 'ending': 0.00536240950933953, 'explanation': 0.0053802842077039946, 'craziness': 0.00539815890606846, 'came': 0.005416033604432925, 'oh': 0.00543390830279739, 'horror': 0.005451783001161855, 'slasher': 0.005469657699526321, 'flick': 0.005487532397890785, 'packaged': 0.005505407096255251, 'someone': 0.005523281794619716, 'assuming': 0.005541156492984181, 'genre': 0.005559031191348646, 'hot': 0.005576905889713111, 'kids': 0.005594780588077576, 'also': 0.005612655286442041, 'wrapped': 0.005630529984806507, 'production': 0.005648404683170971, 'years': 0.005666279381535437, 'ago': 0.005684154079899902, 'sitting': 0.005702028778264367, 'shelves': 0.005719903476628832, 'ever': 0.0057377781749932966, 'whatever': 0.005755652873357762, 'skip': 0.005773527571722227, \"where's\": 0.005791402270086692, 'joblo': 0.005809276968451157, 'nightmare': 0.005827151666815623, 'elm': 0.005845026365180087, 'street': 0.005862901063544553, 'blair': 0.005880775761909018, 'witch': 0.005898650460273483, 'crow': 0.005916525158637948, 'salvation': 0.005934399857002413, 'stir': 0.005952274555366878, 'echoes': 0.005970149253731343}\n",
      "[[0.00000000e+00 0.00000000e+00 1.00462126e-03 ... 0.00000000e+00\n",
      "  4.18931382e-03 0.00000000e+00]\n",
      " [1.78746984e-05 0.00000000e+00 4.15913201e-03 ... 0.00000000e+00\n",
      "  1.68749877e-03 0.00000000e+00]\n",
      " [3.57493967e-05 0.00000000e+00 0.00000000e+00 ... 0.00000000e+00\n",
      "  0.00000000e+00 0.00000000e+00]\n",
      " ...\n",
      " [5.93439986e-03 0.00000000e+00 0.00000000e+00 ... 0.00000000e+00\n",
      "  0.00000000e+00 0.00000000e+00]\n",
      " [5.95227456e-03 0.00000000e+00 0.00000000e+00 ... 0.00000000e+00\n",
      "  0.00000000e+00 0.00000000e+00]\n",
      " [5.97014925e-03 0.00000000e+00 0.00000000e+00 ... 0.00000000e+00\n",
      "  0.00000000e+00 0.00000000e+00]]\n"
     ]
    }
   ],
   "source": [
    "ilosc_dokumentow = 2000\n",
    "wszystkie_worki = []\n",
    "for i in range(1,ilosc_dokumentow+1):\n",
    "    wszystkie_worki.append(tworz_bag_of_words_z_dokumentu(i))\n",
    "\n",
    "\n",
    "\n",
    "\n",
    "def stworz_macierz_term_by_document(slownik, dokumenty):\n",
    "    macierz = np.zeros((len(slownik), len(dokumenty)))\n",
    "    i = 0\n",
    "    print(slownik)\n",
    "    for licznik, klucz in enumerate(slownik):\n",
    "        j=0\n",
    "        for dokument in dokumenty:\n",
    "            if klucz in dokument:\n",
    "                macierz[i, j] = dokument[klucz]\n",
    "            j += 1\n",
    "        i += 1\n",
    "    return macierz\n",
    "\n",
    "temp = stworz_macierz_term_by_document(slownik, wszystkie_worki)\n",
    "print(temp)\n",
    "\n",
    "\n",
    "def stworz_rzadka_macierz():\n",
    "    macierz = []\n",
    "    for i in range(1,ilosc_dokumentow+1):\n",
    "        macierz.append(tworz_bag_of_words_z_slownika(tworz_slownik_slow_kluczowych(wczytaj_dokument(i))))\n",
    "    return macierz\n",
    "\n",
    "rzadka_macierz = stworz_rzadka_macierz()"
   ],
   "metadata": {
    "collapsed": false,
    "pycharm": {
     "name": "#%%\n"
    }
   }
  },
  {
   "cell_type": "markdown",
   "source": [
    "5. Przetwórz wstępnie otrzymany zbiór danych mnożąc elementy bag-of-words przez inverse document frequency. Operacja ta pozwoli na redukcję znaczenia często występujących słów.\n",
    "\n",
    "$IDF(w) = log\\frac{N}{n_{w}}$\n",
    "\n",
    "gdzie $n_{w}$ jest liczbą dokumentów, w których występuje słowo w, a $N$ jest całkowitą liczbą dokumentów."
   ],
   "metadata": {
    "collapsed": false
   }
  },
  {
   "cell_type": "code",
   "execution_count": 21,
   "outputs": [
    {
     "ename": "KeyError",
     "evalue": "0",
     "output_type": "error",
     "traceback": [
      "\u001B[1;31m---------------------------------------------------------------------------\u001B[0m",
      "\u001B[1;31mKeyError\u001B[0m                                  Traceback (most recent call last)",
      "\u001B[1;32m<ipython-input-21-e23ce835c443>\u001B[0m in \u001B[0;36m<module>\u001B[1;34m\u001B[0m\n\u001B[0;32m     13\u001B[0m     \u001B[1;32mreturn\u001B[0m \u001B[0mnp\u001B[0m\u001B[1;33m.\u001B[0m\u001B[0marray\u001B[0m\u001B[1;33m(\u001B[0m\u001B[0mIDF\u001B[0m\u001B[1;33m)\u001B[0m\u001B[1;33m\u001B[0m\u001B[1;33m\u001B[0m\u001B[0m\n\u001B[0;32m     14\u001B[0m \u001B[1;33m\u001B[0m\u001B[0m\n\u001B[1;32m---> 15\u001B[1;33m \u001B[0mmacierz_temp\u001B[0m \u001B[1;33m=\u001B[0m \u001B[0mget_IDF\u001B[0m\u001B[1;33m(\u001B[0m\u001B[0mrzadka_macierz\u001B[0m\u001B[1;33m,\u001B[0m \u001B[0mwszystkie_slowa\u001B[0m\u001B[1;33m)\u001B[0m\u001B[1;33m\u001B[0m\u001B[1;33m\u001B[0m\u001B[0m\n\u001B[0m\u001B[0;32m     16\u001B[0m \u001B[0mmacierz_IDF\u001B[0m \u001B[1;33m=\u001B[0m \u001B[1;33m[\u001B[0m\u001B[1;33m]\u001B[0m\u001B[1;33m\u001B[0m\u001B[1;33m\u001B[0m\u001B[0m\n\u001B[0;32m     17\u001B[0m \u001B[1;33m\u001B[0m\u001B[0m\n",
      "\u001B[1;32m<ipython-input-21-e23ce835c443>\u001B[0m in \u001B[0;36mget_IDF\u001B[1;34m(macierz_term_by_document, wszystkie_slowa)\u001B[0m\n\u001B[0;32m      6\u001B[0m         \u001B[0mdokumenty_zawierajace\u001B[0m \u001B[1;33m=\u001B[0m \u001B[1;36m0\u001B[0m\u001B[1;33m\u001B[0m\u001B[1;33m\u001B[0m\u001B[0m\n\u001B[0;32m      7\u001B[0m         \u001B[1;32mfor\u001B[0m \u001B[0mdocument\u001B[0m \u001B[1;32min\u001B[0m \u001B[0mmacierz_term_by_document\u001B[0m\u001B[1;33m:\u001B[0m\u001B[1;33m\u001B[0m\u001B[1;33m\u001B[0m\u001B[0m\n\u001B[1;32m----> 8\u001B[1;33m             \u001B[1;32mif\u001B[0m \u001B[0mdocument\u001B[0m\u001B[1;33m[\u001B[0m\u001B[0mi\u001B[0m\u001B[1;33m]\u001B[0m \u001B[1;33m>\u001B[0m \u001B[1;36m0\u001B[0m\u001B[1;33m:\u001B[0m\u001B[1;33m\u001B[0m\u001B[1;33m\u001B[0m\u001B[0m\n\u001B[0m\u001B[0;32m      9\u001B[0m                 \u001B[0mdokumenty_zawierajace\u001B[0m \u001B[1;33m+=\u001B[0m \u001B[1;36m1\u001B[0m\u001B[1;33m\u001B[0m\u001B[1;33m\u001B[0m\u001B[0m\n\u001B[0;32m     10\u001B[0m \u001B[1;33m\u001B[0m\u001B[0m\n",
      "\u001B[1;31mKeyError\u001B[0m: 0"
     ]
    }
   ],
   "source": [
    "\n",
    "def get_IDF(macierz_term_by_document, wszystkie_slowa):\n",
    "    N = len(macierz_term_by_document)\n",
    "    IDF = []\n",
    "\n",
    "    for i, slowo in enumerate(wszystkie_slowa):\n",
    "        dokumenty_zawierajace = 0\n",
    "        for document in macierz_term_by_document:\n",
    "            if document[i] > 0:\n",
    "                dokumenty_zawierajace += 1\n",
    "\n",
    "        IDF.append(math.log(N / dokumenty_zawierajace))\n",
    "\n",
    "    return np.array(IDF)\n",
    "\n",
    "macierz_temp = get_IDF(rzadka_macierz, wszystkie_slowa)\n",
    "macierz_IDF = []\n",
    "\n",
    "for document in np.array(rzadka_macierz):\n",
    "    macierz_IDF.append(document * macierz_temp)\n",
    "\n",
    "print(macierz_IDF)"
   ],
   "metadata": {
    "collapsed": false,
    "pycharm": {
     "name": "#%%\n"
    }
   }
  },
  {
   "cell_type": "markdown",
   "source": [
    "6. Napisz program pozwalający na wprowadzenie zapytania (w postaci sekwencji słów) przekształcanego następnie do reprezentacji wektorowej q (bag-of-words). Program ma zwrócić k dokumentów najbardziej zbliżonych do podanego zapytania q. Użyj korelacji między wektorami jako miary podobieństwa\n",
    "\n",
    "$ cos(θ)_{j} = \\frac{q^{T}d_{j}}{||q||*||d_{j}||}=\\frac{q^{T}Ae_{j}}{||q||*||Ae_{j}||}$"
   ],
   "metadata": {
    "collapsed": false
   }
  },
  {
   "cell_type": "markdown",
   "source": [
    "7. Zastosuj normalizację wektorów cech dj i wektora q, tak aby miały one długość 1. Użyj zmodyﬁkowanej miary podobieństwa otrzymując\n",
    "\n",
    "$|q^{T}A|= [|cos(θ)_{1}|,|cos(θ)_{2}|,...,|cos(θ)_{n}|]$"
   ],
   "metadata": {
    "collapsed": false
   }
  },
  {
   "cell_type": "markdown",
   "source": [
    "8. W celu usunięcia szumu z macierzy A zastosuj SVD i low rank approximation otrzymując\n",
    "\n",
    "![text](Adnotacja 2020-05-30 140957.png)\n",
    "\n",
    "oraz nową miarę podobieństwa\n",
    "\n",
    "$cos(\\phi)_{j} == \\frac{q^{T}A_{k}e_{j}}{||q||*||A_{k}e_{j}||}$"
   ],
   "metadata": {
    "collapsed": false
   }
  },
  {
   "cell_type": "markdown",
   "source": [
    "9. Porównaj działanie programu bez usuwania szumu i z usuwaniem szumu. Dla jakiej wartości k wyniki wyszukiwania są najlepsze (subiektywnie). Zbadaj wpływ przekształcenia IDF na wyniki wyszukiwania.\n",
    "\n"
   ],
   "metadata": {
    "collapsed": false
   }
  }
 ],
 "metadata": {
  "kernelspec": {
   "display_name": "Python 3",
   "language": "python",
   "name": "python3"
  },
  "language_info": {
   "codemirror_mode": {
    "name": "ipython",
    "version": 2
   },
   "file_extension": ".py",
   "mimetype": "text/x-python",
   "name": "python",
   "nbconvert_exporter": "python",
   "pygments_lexer": "ipython2",
   "version": "2.7.6"
  }
 },
 "nbformat": 4,
 "nbformat_minor": 0
}